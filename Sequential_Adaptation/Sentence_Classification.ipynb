{
  "nbformat": 4,
  "nbformat_minor": 0,
  "metadata": {
    "kernelspec": {
      "display_name": "Python 3",
      "language": "python",
      "name": "python3"
    },
    "language_info": {
      "codemirror_mode": {
        "name": "ipython",
        "version": 3
      },
      "file_extension": ".py",
      "mimetype": "text/x-python",
      "name": "python",
      "nbconvert_exporter": "python",
      "pygments_lexer": "ipython3",
      "version": "3.7.6"
    },
    "papermill": {
      "duration": 15973.001875,
      "end_time": "2021-02-14T01:48:46.256092",
      "environment_variables": {},
      "exception": null,
      "input_path": "__notebook__.ipynb",
      "output_path": "__notebook__.ipynb",
      "parameters": {},
      "start_time": "2021-02-13T21:22:33.254217",
      "version": "2.1.0"
    },
    "widgets": {
      "application/vnd.jupyter.widget-state+json": {}
    },
    "colab": {
      "name": "Sentence_Classification.ipynb",
      "provenance": []
    }
  },
  "cells": [
    {
      "cell_type": "code",
      "metadata": {
        "execution": {
          "iopub.execute_input": "2021-02-13T21:22:37.151554Z",
          "iopub.status.busy": "2021-02-13T21:22:37.150776Z",
          "iopub.status.idle": "2021-02-13T21:22:47.140776Z",
          "shell.execute_reply": "2021-02-13T21:22:47.140189Z"
        },
        "papermill": {
          "duration": 10.006514,
          "end_time": "2021-02-13T21:22:47.140886",
          "exception": false,
          "start_time": "2021-02-13T21:22:37.134372",
          "status": "completed"
        },
        "tags": [],
        "id": "kk1LX36a17lA",
        "outputId": "963e6c3a-cd75-42e5-aa40-f01b53f439bc"
      },
      "source": [
        "!pip install pandarallel"
      ],
      "execution_count": null,
      "outputs": [
        {
          "output_type": "stream",
          "text": [
            "Collecting pandarallel\r\n",
            "  Downloading pandarallel-1.5.2.tar.gz (16 kB)\r\n",
            "Requirement already satisfied: dill in /opt/conda/lib/python3.7/site-packages (from pandarallel) (0.3.3)\r\n",
            "Building wheels for collected packages: pandarallel\r\n",
            "  Building wheel for pandarallel (setup.py) ... \u001b[?25l-\b \b\\\b \bdone\r\n",
            "\u001b[?25h  Created wheel for pandarallel: filename=pandarallel-1.5.2-py3-none-any.whl size=18383 sha256=84f26e245b6f40693ffe08b6b617a40f556fbb3e92c4cdf49a7e66a8fb575ddb\r\n",
            "  Stored in directory: /root/.cache/pip/wheels/b5/6d/51/9ece2eaf007ea3f7fb0ce053c5773b2eb0d308887da3af12c1\r\n",
            "Successfully built pandarallel\r\n",
            "Installing collected packages: pandarallel\r\n",
            "Successfully installed pandarallel-1.5.2\r\n",
            "\u001b[33mWARNING: You are using pip version 20.3.1; however, version 21.0.1 is available.\r\n",
            "You should consider upgrading via the '/opt/conda/bin/python3.7 -m pip install --upgrade pip' command.\u001b[0m\r\n"
          ],
          "name": "stdout"
        }
      ]
    },
    {
      "cell_type": "code",
      "metadata": {
        "_cell_guid": "b1076dfc-b9ad-4769-8c92-a6c4dae69d19",
        "_uuid": "8f2839f25d086af736a60e9eeb907d3b93b6e0e5",
        "execution": {
          "iopub.execute_input": "2021-02-13T21:22:47.175251Z",
          "iopub.status.busy": "2021-02-13T21:22:47.174452Z",
          "iopub.status.idle": "2021-02-13T21:22:56.412437Z",
          "shell.execute_reply": "2021-02-13T21:22:56.411334Z"
        },
        "papermill": {
          "duration": 9.257784,
          "end_time": "2021-02-13T21:22:56.412582",
          "exception": false,
          "start_time": "2021-02-13T21:22:47.154798",
          "status": "completed"
        },
        "tags": [],
        "id": "3BkMhmWO17q4"
      },
      "source": [
        "import numpy as np\n",
        "import pandas as pd\n",
        "import os\n",
        "import random\n",
        "import torch\n",
        "import pickle\n",
        "import matplotlib.pyplot as plt\n",
        "from sklearn.metrics import precision_recall_curve, average_precision_score\n",
        "from sklearn.model_selection import train_test_split\n",
        "from transformers import BertTokenizer, BertModel, AdamW\n",
        "from torch import nn\n",
        "from keras.preprocessing.sequence import pad_sequences\n",
        "from torch.utils.data import Dataset\n",
        "from torch.optim import Adam\n",
        "from torch.nn.utils import clip_grad_norm_\n",
        "from pandarallel import pandarallel\n",
        "from IPython.display import clear_output\n",
        "from tqdm import tqdm"
      ],
      "execution_count": null,
      "outputs": []
    },
    {
      "cell_type": "code",
      "metadata": {
        "execution": {
          "iopub.execute_input": "2021-02-13T21:22:56.445966Z",
          "iopub.status.busy": "2021-02-13T21:22:56.445192Z",
          "iopub.status.idle": "2021-02-13T21:22:56.448109Z",
          "shell.execute_reply": "2021-02-13T21:22:56.448533Z"
        },
        "papermill": {
          "duration": 0.021493,
          "end_time": "2021-02-13T21:22:56.448636",
          "exception": false,
          "start_time": "2021-02-13T21:22:56.427143",
          "status": "completed"
        },
        "tags": [],
        "id": "emE5gPr817rA",
        "outputId": "6f5030a1-289c-49bd-84b3-c871397b76e3"
      },
      "source": [
        "pandarallel.initialize(progress_bar=True)"
      ],
      "execution_count": null,
      "outputs": [
        {
          "output_type": "stream",
          "text": [
            "INFO: Pandarallel will run on 2 workers.\n",
            "INFO: Pandarallel will use Memory file system to transfer data between the main process and workers.\n"
          ],
          "name": "stdout"
        }
      ]
    },
    {
      "cell_type": "code",
      "metadata": {
        "execution": {
          "iopub.execute_input": "2021-02-13T21:22:56.482804Z",
          "iopub.status.busy": "2021-02-13T21:22:56.479511Z",
          "iopub.status.idle": "2021-02-13T21:22:58.088676Z",
          "shell.execute_reply": "2021-02-13T21:22:58.087662Z"
        },
        "papermill": {
          "duration": 1.626488,
          "end_time": "2021-02-13T21:22:58.088794",
          "exception": false,
          "start_time": "2021-02-13T21:22:56.462306",
          "status": "completed"
        },
        "tags": [],
        "id": "3YNze2iV17rW"
      },
      "source": [
        "df = pd.read_pickle('df.pkl')"
      ],
      "execution_count": null,
      "outputs": []
    },
    {
      "cell_type": "code",
      "metadata": {
        "execution": {
          "iopub.execute_input": "2021-02-13T21:22:58.133141Z",
          "iopub.status.busy": "2021-02-13T21:22:58.132625Z",
          "iopub.status.idle": "2021-02-13T21:22:58.142566Z",
          "shell.execute_reply": "2021-02-13T21:22:58.142113Z"
        },
        "papermill": {
          "duration": 0.040655,
          "end_time": "2021-02-13T21:22:58.142662",
          "exception": false,
          "start_time": "2021-02-13T21:22:58.102007",
          "status": "completed"
        },
        "tags": [],
        "id": "TXd5R9a117rc",
        "outputId": "56766383-ce41-4726-ad59-fe0c0b4c7813"
      },
      "source": [
        "df"
      ],
      "execution_count": null,
      "outputs": [
        {
          "output_type": "execute_result",
          "data": {
            "text/html": [
              "<div>\n",
              "<style scoped>\n",
              "    .dataframe tbody tr th:only-of-type {\n",
              "        vertical-align: middle;\n",
              "    }\n",
              "\n",
              "    .dataframe tbody tr th {\n",
              "        vertical-align: top;\n",
              "    }\n",
              "\n",
              "    .dataframe thead th {\n",
              "        text-align: right;\n",
              "    }\n",
              "</style>\n",
              "<table border=\"1\" class=\"dataframe\">\n",
              "  <thead>\n",
              "    <tr style=\"text-align: right;\">\n",
              "      <th></th>\n",
              "      <th>text</th>\n",
              "      <th>toxic?</th>\n",
              "      <th>dataset</th>\n",
              "    </tr>\n",
              "  </thead>\n",
              "  <tbody>\n",
              "    <tr>\n",
              "      <th>0</th>\n",
              "      <td>Explanation\\nWhy the edits made under my usern...</td>\n",
              "      <td>0</td>\n",
              "      <td>0</td>\n",
              "    </tr>\n",
              "    <tr>\n",
              "      <th>1</th>\n",
              "      <td>D'aww! He matches this background colour I'm s...</td>\n",
              "      <td>0</td>\n",
              "      <td>0</td>\n",
              "    </tr>\n",
              "    <tr>\n",
              "      <th>2</th>\n",
              "      <td>Hey man, I'm really not trying to edit war. It...</td>\n",
              "      <td>0</td>\n",
              "      <td>0</td>\n",
              "    </tr>\n",
              "    <tr>\n",
              "      <th>3</th>\n",
              "      <td>\"\\nMore\\nI can't make any real suggestions on ...</td>\n",
              "      <td>0</td>\n",
              "      <td>0</td>\n",
              "    </tr>\n",
              "    <tr>\n",
              "      <th>4</th>\n",
              "      <td>You, sir, are my hero. Any chance you remember...</td>\n",
              "      <td>0</td>\n",
              "      <td>0</td>\n",
              "    </tr>\n",
              "    <tr>\n",
              "      <th>...</th>\n",
              "      <td>...</td>\n",
              "      <td>...</td>\n",
              "      <td>...</td>\n",
              "    </tr>\n",
              "    <tr>\n",
              "      <th>281274</th>\n",
              "      <td>@USER @USER Nothing about trump is human or no...</td>\n",
              "      <td>1</td>\n",
              "      <td>4</td>\n",
              "    </tr>\n",
              "    <tr>\n",
              "      <th>281275</th>\n",
              "      <td>@USER Oh shit. That sounds like a cool time tho</td>\n",
              "      <td>1</td>\n",
              "      <td>4</td>\n",
              "    </tr>\n",
              "    <tr>\n",
              "      <th>281276</th>\n",
              "      <td>@USER @USER I gotta say that shit to you one t...</td>\n",
              "      <td>1</td>\n",
              "      <td>4</td>\n",
              "    </tr>\n",
              "    <tr>\n",
              "      <th>281277</th>\n",
              "      <td>@USER tRUmp does everything he can to destroy ...</td>\n",
              "      <td>1</td>\n",
              "      <td>4</td>\n",
              "    </tr>\n",
              "    <tr>\n",
              "      <th>281278</th>\n",
              "      <td>I was gonna tweet some shit like holding hands...</td>\n",
              "      <td>1</td>\n",
              "      <td>4</td>\n",
              "    </tr>\n",
              "  </tbody>\n",
              "</table>\n",
              "<p>281279 rows × 3 columns</p>\n",
              "</div>"
            ],
            "text/plain": [
              "                                                     text  toxic?  dataset\n",
              "0       Explanation\\nWhy the edits made under my usern...       0        0\n",
              "1       D'aww! He matches this background colour I'm s...       0        0\n",
              "2       Hey man, I'm really not trying to edit war. It...       0        0\n",
              "3       \"\\nMore\\nI can't make any real suggestions on ...       0        0\n",
              "4       You, sir, are my hero. Any chance you remember...       0        0\n",
              "...                                                   ...     ...      ...\n",
              "281274  @USER @USER Nothing about trump is human or no...       1        4\n",
              "281275    @USER Oh shit. That sounds like a cool time tho       1        4\n",
              "281276  @USER @USER I gotta say that shit to you one t...       1        4\n",
              "281277  @USER tRUmp does everything he can to destroy ...       1        4\n",
              "281278  I was gonna tweet some shit like holding hands...       1        4\n",
              "\n",
              "[281279 rows x 3 columns]"
            ]
          },
          "metadata": {
            "tags": []
          },
          "execution_count": 5
        }
      ]
    },
    {
      "cell_type": "code",
      "metadata": {
        "execution": {
          "iopub.execute_input": "2021-02-13T21:22:58.175189Z",
          "iopub.status.busy": "2021-02-13T21:22:58.173250Z",
          "iopub.status.idle": "2021-02-13T21:22:58.178276Z",
          "shell.execute_reply": "2021-02-13T21:22:58.177864Z"
        },
        "papermill": {
          "duration": 0.021916,
          "end_time": "2021-02-13T21:22:58.178360",
          "exception": false,
          "start_time": "2021-02-13T21:22:58.156444",
          "status": "completed"
        },
        "tags": [],
        "id": "HgxBZdDl17rf",
        "outputId": "5610512d-d49f-49d1-d875-f9426f720186"
      },
      "source": [
        "df['toxic?'].mean()"
      ],
      "execution_count": null,
      "outputs": [
        {
          "output_type": "execute_result",
          "data": {
            "text/plain": [
              "0.18884097284191143"
            ]
          },
          "metadata": {
            "tags": []
          },
          "execution_count": 6
        }
      ]
    },
    {
      "cell_type": "code",
      "metadata": {
        "execution": {
          "iopub.execute_input": "2021-02-13T21:22:58.211771Z",
          "iopub.status.busy": "2021-02-13T21:22:58.210979Z",
          "iopub.status.idle": "2021-02-13T21:32:46.765006Z",
          "shell.execute_reply": "2021-02-13T21:32:46.764525Z"
        },
        "papermill": {
          "duration": 588.573118,
          "end_time": "2021-02-13T21:32:46.765116",
          "exception": false,
          "start_time": "2021-02-13T21:22:58.191998",
          "status": "completed"
        },
        "tags": [],
        "colab": {
          "referenced_widgets": [
            "58803959f849436d9df9d9d0de91d9cd"
          ]
        },
        "id": "YNu2QMdB17rv",
        "outputId": "2b76d183-0b93-4234-db19-39f874cca5dd"
      },
      "source": [
        "tokenizer = BertTokenizer.from_pretrained('bert-base-uncased', do_lower_case=True)\n",
        "tqdm.pandas()\n",
        "encoded_info = df['text'].progress_apply(tokenizer.encode_plus,\n",
        "                                         add_special_tokens = True).values\n",
        "df['tokens'] = [x['input_ids'] for x in encoded_info]\n",
        "df.drop(df[df['tokens'].map(len) > 512].index, inplace=True)\n",
        "\n",
        "df.shape"
      ],
      "execution_count": null,
      "outputs": [
        {
          "output_type": "display_data",
          "data": {
            "application/vnd.jupyter.widget-view+json": {
              "model_id": "58803959f849436d9df9d9d0de91d9cd",
              "version_major": 2,
              "version_minor": 0
            },
            "text/plain": [
              "HBox(children=(FloatProgress(value=0.0, description='Downloading', max=231508.0, style=ProgressStyle(descripti…"
            ]
          },
          "metadata": {
            "tags": []
          }
        },
        {
          "output_type": "stream",
          "text": [
            "/opt/conda/lib/python3.7/site-packages/tqdm/std.py:666: FutureWarning: The Panel class is removed from pandas. Accessing it from the top-level namespace will also be removed in the next version\n",
            "  from pandas import Panel\n",
            "  0%|          | 0/281279 [00:00<?, ?it/s]Token indices sequence length is longer than the specified maximum sequence length for this model (631 > 512). Running this sequence through the model will result in indexing errors\n",
            "  0%|          | 41/281279 [00:00<11:55, 393.30it/s]"
          ],
          "name": "stderr"
        },
        {
          "output_type": "stream",
          "text": [
            "\n"
          ],
          "name": "stdout"
        },
        {
          "output_type": "stream",
          "text": [
            "100%|██████████| 281279/281279 [09:45<00:00, 480.32it/s] \n"
          ],
          "name": "stderr"
        },
        {
          "output_type": "execute_result",
          "data": {
            "text/plain": [
              "(276143, 4)"
            ]
          },
          "metadata": {
            "tags": []
          },
          "execution_count": 7
        }
      ]
    },
    {
      "cell_type": "code",
      "metadata": {
        "execution": {
          "iopub.execute_input": "2021-02-13T21:32:49.895963Z",
          "iopub.status.busy": "2021-02-13T21:32:49.895084Z",
          "iopub.status.idle": "2021-02-13T21:32:49.898982Z",
          "shell.execute_reply": "2021-02-13T21:32:49.898546Z"
        },
        "papermill": {
          "duration": 1.713961,
          "end_time": "2021-02-13T21:32:49.899071",
          "exception": false,
          "start_time": "2021-02-13T21:32:48.185110",
          "status": "completed"
        },
        "tags": [],
        "id": "A8klUxsg17sM",
        "outputId": "c0fcf092-a6be-4585-a9a0-be9622ada065"
      },
      "source": [
        "df"
      ],
      "execution_count": null,
      "outputs": [
        {
          "output_type": "execute_result",
          "data": {
            "text/html": [
              "<div>\n",
              "<style scoped>\n",
              "    .dataframe tbody tr th:only-of-type {\n",
              "        vertical-align: middle;\n",
              "    }\n",
              "\n",
              "    .dataframe tbody tr th {\n",
              "        vertical-align: top;\n",
              "    }\n",
              "\n",
              "    .dataframe thead th {\n",
              "        text-align: right;\n",
              "    }\n",
              "</style>\n",
              "<table border=\"1\" class=\"dataframe\">\n",
              "  <thead>\n",
              "    <tr style=\"text-align: right;\">\n",
              "      <th></th>\n",
              "      <th>text</th>\n",
              "      <th>toxic?</th>\n",
              "      <th>dataset</th>\n",
              "      <th>tokens</th>\n",
              "    </tr>\n",
              "  </thead>\n",
              "  <tbody>\n",
              "    <tr>\n",
              "      <th>0</th>\n",
              "      <td>Explanation\\nWhy the edits made under my usern...</td>\n",
              "      <td>0</td>\n",
              "      <td>0</td>\n",
              "      <td>[101, 7526, 2339, 1996, 10086, 2015, 2081, 210...</td>\n",
              "    </tr>\n",
              "    <tr>\n",
              "      <th>1</th>\n",
              "      <td>D'aww! He matches this background colour I'm s...</td>\n",
              "      <td>0</td>\n",
              "      <td>0</td>\n",
              "      <td>[101, 1040, 1005, 22091, 2860, 999, 2002, 3503...</td>\n",
              "    </tr>\n",
              "    <tr>\n",
              "      <th>2</th>\n",
              "      <td>Hey man, I'm really not trying to edit war. It...</td>\n",
              "      <td>0</td>\n",
              "      <td>0</td>\n",
              "      <td>[101, 4931, 2158, 1010, 1045, 1005, 1049, 2428...</td>\n",
              "    </tr>\n",
              "    <tr>\n",
              "      <th>3</th>\n",
              "      <td>\"\\nMore\\nI can't make any real suggestions on ...</td>\n",
              "      <td>0</td>\n",
              "      <td>0</td>\n",
              "      <td>[101, 1000, 2062, 1045, 2064, 1005, 1056, 2191...</td>\n",
              "    </tr>\n",
              "    <tr>\n",
              "      <th>4</th>\n",
              "      <td>You, sir, are my hero. Any chance you remember...</td>\n",
              "      <td>0</td>\n",
              "      <td>0</td>\n",
              "      <td>[101, 2017, 1010, 2909, 1010, 2024, 2026, 5394...</td>\n",
              "    </tr>\n",
              "    <tr>\n",
              "      <th>...</th>\n",
              "      <td>...</td>\n",
              "      <td>...</td>\n",
              "      <td>...</td>\n",
              "      <td>...</td>\n",
              "    </tr>\n",
              "    <tr>\n",
              "      <th>281274</th>\n",
              "      <td>@USER @USER Nothing about trump is human or no...</td>\n",
              "      <td>1</td>\n",
              "      <td>4</td>\n",
              "      <td>[101, 1030, 5310, 1030, 5310, 2498, 2055, 8398...</td>\n",
              "    </tr>\n",
              "    <tr>\n",
              "      <th>281275</th>\n",
              "      <td>@USER Oh shit. That sounds like a cool time tho</td>\n",
              "      <td>1</td>\n",
              "      <td>4</td>\n",
              "      <td>[101, 1030, 5310, 2821, 4485, 1012, 2008, 4165...</td>\n",
              "    </tr>\n",
              "    <tr>\n",
              "      <th>281276</th>\n",
              "      <td>@USER @USER I gotta say that shit to you one t...</td>\n",
              "      <td>1</td>\n",
              "      <td>4</td>\n",
              "      <td>[101, 1030, 5310, 1030, 5310, 1045, 10657, 236...</td>\n",
              "    </tr>\n",
              "    <tr>\n",
              "      <th>281277</th>\n",
              "      <td>@USER tRUmp does everything he can to destroy ...</td>\n",
              "      <td>1</td>\n",
              "      <td>4</td>\n",
              "      <td>[101, 1030, 5310, 8398, 2515, 2673, 2002, 2064...</td>\n",
              "    </tr>\n",
              "    <tr>\n",
              "      <th>281278</th>\n",
              "      <td>I was gonna tweet some shit like holding hands...</td>\n",
              "      <td>1</td>\n",
              "      <td>4</td>\n",
              "      <td>[101, 1045, 2001, 6069, 1056, 28394, 2102, 207...</td>\n",
              "    </tr>\n",
              "  </tbody>\n",
              "</table>\n",
              "<p>276143 rows × 4 columns</p>\n",
              "</div>"
            ],
            "text/plain": [
              "                                                     text  toxic?  dataset  \\\n",
              "0       Explanation\\nWhy the edits made under my usern...       0        0   \n",
              "1       D'aww! He matches this background colour I'm s...       0        0   \n",
              "2       Hey man, I'm really not trying to edit war. It...       0        0   \n",
              "3       \"\\nMore\\nI can't make any real suggestions on ...       0        0   \n",
              "4       You, sir, are my hero. Any chance you remember...       0        0   \n",
              "...                                                   ...     ...      ...   \n",
              "281274  @USER @USER Nothing about trump is human or no...       1        4   \n",
              "281275    @USER Oh shit. That sounds like a cool time tho       1        4   \n",
              "281276  @USER @USER I gotta say that shit to you one t...       1        4   \n",
              "281277  @USER tRUmp does everything he can to destroy ...       1        4   \n",
              "281278  I was gonna tweet some shit like holding hands...       1        4   \n",
              "\n",
              "                                                   tokens  \n",
              "0       [101, 7526, 2339, 1996, 10086, 2015, 2081, 210...  \n",
              "1       [101, 1040, 1005, 22091, 2860, 999, 2002, 3503...  \n",
              "2       [101, 4931, 2158, 1010, 1045, 1005, 1049, 2428...  \n",
              "3       [101, 1000, 2062, 1045, 2064, 1005, 1056, 2191...  \n",
              "4       [101, 2017, 1010, 2909, 1010, 2024, 2026, 5394...  \n",
              "...                                                   ...  \n",
              "281274  [101, 1030, 5310, 1030, 5310, 2498, 2055, 8398...  \n",
              "281275  [101, 1030, 5310, 2821, 4485, 1012, 2008, 4165...  \n",
              "281276  [101, 1030, 5310, 1030, 5310, 1045, 10657, 236...  \n",
              "281277  [101, 1030, 5310, 8398, 2515, 2673, 2002, 2064...  \n",
              "281278  [101, 1045, 2001, 6069, 1056, 28394, 2102, 207...  \n",
              "\n",
              "[276143 rows x 4 columns]"
            ]
          },
          "metadata": {
            "tags": []
          },
          "execution_count": 8
        }
      ]
    },
    {
      "cell_type": "code",
      "metadata": {
        "execution": {
          "iopub.execute_input": "2021-02-13T21:32:52.801991Z",
          "iopub.status.busy": "2021-02-13T21:32:52.801241Z",
          "iopub.status.idle": "2021-02-13T21:32:52.810310Z",
          "shell.execute_reply": "2021-02-13T21:32:52.810863Z"
        },
        "papermill": {
          "duration": 1.449903,
          "end_time": "2021-02-13T21:32:52.810982",
          "exception": false,
          "start_time": "2021-02-13T21:32:51.361079",
          "status": "completed"
        },
        "tags": [],
        "id": "bvfe67Fi17se"
      },
      "source": [
        "class ToxicityDataset(Dataset):\n",
        "    def __init__(self, df, batch_size):\n",
        "        self.df = df\n",
        "        self.batch_size = batch_size\n",
        "        self.num_samples = df.shape[0] \n",
        "\n",
        "    def __len__(self):\n",
        "        return df.shape[0] // self.batch_size\n",
        "\n",
        "    def __getitem__(self, index):\n",
        "        batch = self.df.iloc[self.batch_size * index:\n",
        "                             min(self.num_samples, self.batch_size * (index + 1))]\n",
        "        num_tokens = [len(sample) for sample in batch['tokens'].tolist()]\n",
        "        \n",
        "        padded_tokens = torch.tensor(np.matrix(\n",
        "            pad_sequences(batch['tokens'].tolist(), maxlen=512, padding='post')\n",
        "        )).type(torch.LongTensor)\n",
        "        masks = torch.tensor([[1 for _ in range(x)] + [0 for _ in range(512 - x)] for x in num_tokens])\n",
        "        labels = torch.tensor(batch['toxic?'].astype(int).values.tolist()).type(torch.FloatTensor)\n",
        "\n",
        "        return padded_tokens, masks, labels\n",
        "    \n",
        "    def shuffle(self):\n",
        "        self.df = self.df.sample(frac=1).reset_index(drop=True)\n",
        "\n",
        "batch_size = 16\n",
        "dataset = ToxicityDataset(df[['tokens', 'toxic?']], batch_size=batch_size)"
      ],
      "execution_count": null,
      "outputs": []
    },
    {
      "cell_type": "code",
      "metadata": {
        "execution": {
          "iopub.execute_input": "2021-02-13T21:32:55.661415Z",
          "iopub.status.busy": "2021-02-13T21:32:55.660589Z",
          "iopub.status.idle": "2021-02-13T21:33:22.526049Z",
          "shell.execute_reply": "2021-02-13T21:33:22.525304Z"
        },
        "papermill": {
          "duration": 28.282397,
          "end_time": "2021-02-13T21:33:22.526174",
          "exception": false,
          "start_time": "2021-02-13T21:32:54.243777",
          "status": "completed"
        },
        "tags": [],
        "colab": {
          "referenced_widgets": [
            "d732d7b75fd749c3993ad462ca60a896",
            "dcd4003e0bd84d13b6c5e51f2e8036cc"
          ]
        },
        "id": "AdMNFQAd17sk",
        "outputId": "c004f476-ed0b-46c7-8483-992c8e616f6f"
      },
      "source": [
        "class BertClassifier(nn.Module):\n",
        "    \n",
        "    def __init__(self, bert):\n",
        "        super().__init__()\n",
        "        self.bert = bert\n",
        "        self.hidden = nn.Linear(768, 64)\n",
        "        self.activation = nn.LeakyReLU(0.1)\n",
        "        self.output = nn.Linear(64, 1)\n",
        "        \n",
        "    def forward(self, input_ids, attention_mask, labels=None):\n",
        "        \n",
        "        _, cls_output = self.bert(input_ids, attention_mask=attention_mask)\n",
        "        cls_output = self.hidden(cls_output)\n",
        "        cls_output = self.activation(cls_output)\n",
        "        cls_output = self.output(cls_output)\n",
        "        cls_output = torch.sigmoid(cls_output)\n",
        "        criterion = nn.BCELoss()\n",
        "        loss = 0\n",
        "        if labels is not None:\n",
        "            loss = criterion(cls_output[:, 0], labels.float())\n",
        "        return loss, cls_output\n",
        "\n",
        "device = torch.device(\"cuda\" if torch.cuda.is_available() else \"cpu\")\n",
        "model = BertClassifier(BertModel.from_pretrained('bert-base-uncased')).to(device)"
      ],
      "execution_count": null,
      "outputs": [
        {
          "output_type": "display_data",
          "data": {
            "application/vnd.jupyter.widget-view+json": {
              "model_id": "d732d7b75fd749c3993ad462ca60a896",
              "version_major": 2,
              "version_minor": 0
            },
            "text/plain": [
              "HBox(children=(FloatProgress(value=0.0, description='Downloading', max=433.0, style=ProgressStyle(description_…"
            ]
          },
          "metadata": {
            "tags": []
          }
        },
        {
          "output_type": "stream",
          "text": [
            "\n"
          ],
          "name": "stdout"
        },
        {
          "output_type": "display_data",
          "data": {
            "application/vnd.jupyter.widget-view+json": {
              "model_id": "dcd4003e0bd84d13b6c5e51f2e8036cc",
              "version_major": 2,
              "version_minor": 0
            },
            "text/plain": [
              "HBox(children=(FloatProgress(value=0.0, description='Downloading', max=440473133.0, style=ProgressStyle(descri…"
            ]
          },
          "metadata": {
            "tags": []
          }
        },
        {
          "output_type": "stream",
          "text": [
            "\n"
          ],
          "name": "stdout"
        }
      ]
    },
    {
      "cell_type": "code",
      "metadata": {
        "execution": {
          "iopub.execute_input": "2021-02-13T21:33:25.345903Z",
          "iopub.status.busy": "2021-02-13T21:33:25.344659Z",
          "iopub.status.idle": "2021-02-13T21:33:25.349835Z",
          "shell.execute_reply": "2021-02-13T21:33:25.350255Z"
        },
        "papermill": {
          "duration": 1.41793,
          "end_time": "2021-02-13T21:33:25.350369",
          "exception": false,
          "start_time": "2021-02-13T21:33:23.932439",
          "status": "completed"
        },
        "tags": [],
        "id": "V_xYcPls17sr",
        "outputId": "486d8907-595c-49df-cf72-94f54973fac9"
      },
      "source": [
        "print(model)"
      ],
      "execution_count": null,
      "outputs": [
        {
          "output_type": "stream",
          "text": [
            "BertClassifier(\n",
            "  (bert): BertModel(\n",
            "    (embeddings): BertEmbeddings(\n",
            "      (word_embeddings): Embedding(30522, 768, padding_idx=0)\n",
            "      (position_embeddings): Embedding(512, 768)\n",
            "      (token_type_embeddings): Embedding(2, 768)\n",
            "      (LayerNorm): LayerNorm((768,), eps=1e-12, elementwise_affine=True)\n",
            "      (dropout): Dropout(p=0.1, inplace=False)\n",
            "    )\n",
            "    (encoder): BertEncoder(\n",
            "      (layer): ModuleList(\n",
            "        (0): BertLayer(\n",
            "          (attention): BertAttention(\n",
            "            (self): BertSelfAttention(\n",
            "              (query): Linear(in_features=768, out_features=768, bias=True)\n",
            "              (key): Linear(in_features=768, out_features=768, bias=True)\n",
            "              (value): Linear(in_features=768, out_features=768, bias=True)\n",
            "              (dropout): Dropout(p=0.1, inplace=False)\n",
            "            )\n",
            "            (output): BertSelfOutput(\n",
            "              (dense): Linear(in_features=768, out_features=768, bias=True)\n",
            "              (LayerNorm): LayerNorm((768,), eps=1e-12, elementwise_affine=True)\n",
            "              (dropout): Dropout(p=0.1, inplace=False)\n",
            "            )\n",
            "          )\n",
            "          (intermediate): BertIntermediate(\n",
            "            (dense): Linear(in_features=768, out_features=3072, bias=True)\n",
            "          )\n",
            "          (output): BertOutput(\n",
            "            (dense): Linear(in_features=3072, out_features=768, bias=True)\n",
            "            (LayerNorm): LayerNorm((768,), eps=1e-12, elementwise_affine=True)\n",
            "            (dropout): Dropout(p=0.1, inplace=False)\n",
            "          )\n",
            "        )\n",
            "        (1): BertLayer(\n",
            "          (attention): BertAttention(\n",
            "            (self): BertSelfAttention(\n",
            "              (query): Linear(in_features=768, out_features=768, bias=True)\n",
            "              (key): Linear(in_features=768, out_features=768, bias=True)\n",
            "              (value): Linear(in_features=768, out_features=768, bias=True)\n",
            "              (dropout): Dropout(p=0.1, inplace=False)\n",
            "            )\n",
            "            (output): BertSelfOutput(\n",
            "              (dense): Linear(in_features=768, out_features=768, bias=True)\n",
            "              (LayerNorm): LayerNorm((768,), eps=1e-12, elementwise_affine=True)\n",
            "              (dropout): Dropout(p=0.1, inplace=False)\n",
            "            )\n",
            "          )\n",
            "          (intermediate): BertIntermediate(\n",
            "            (dense): Linear(in_features=768, out_features=3072, bias=True)\n",
            "          )\n",
            "          (output): BertOutput(\n",
            "            (dense): Linear(in_features=3072, out_features=768, bias=True)\n",
            "            (LayerNorm): LayerNorm((768,), eps=1e-12, elementwise_affine=True)\n",
            "            (dropout): Dropout(p=0.1, inplace=False)\n",
            "          )\n",
            "        )\n",
            "        (2): BertLayer(\n",
            "          (attention): BertAttention(\n",
            "            (self): BertSelfAttention(\n",
            "              (query): Linear(in_features=768, out_features=768, bias=True)\n",
            "              (key): Linear(in_features=768, out_features=768, bias=True)\n",
            "              (value): Linear(in_features=768, out_features=768, bias=True)\n",
            "              (dropout): Dropout(p=0.1, inplace=False)\n",
            "            )\n",
            "            (output): BertSelfOutput(\n",
            "              (dense): Linear(in_features=768, out_features=768, bias=True)\n",
            "              (LayerNorm): LayerNorm((768,), eps=1e-12, elementwise_affine=True)\n",
            "              (dropout): Dropout(p=0.1, inplace=False)\n",
            "            )\n",
            "          )\n",
            "          (intermediate): BertIntermediate(\n",
            "            (dense): Linear(in_features=768, out_features=3072, bias=True)\n",
            "          )\n",
            "          (output): BertOutput(\n",
            "            (dense): Linear(in_features=3072, out_features=768, bias=True)\n",
            "            (LayerNorm): LayerNorm((768,), eps=1e-12, elementwise_affine=True)\n",
            "            (dropout): Dropout(p=0.1, inplace=False)\n",
            "          )\n",
            "        )\n",
            "        (3): BertLayer(\n",
            "          (attention): BertAttention(\n",
            "            (self): BertSelfAttention(\n",
            "              (query): Linear(in_features=768, out_features=768, bias=True)\n",
            "              (key): Linear(in_features=768, out_features=768, bias=True)\n",
            "              (value): Linear(in_features=768, out_features=768, bias=True)\n",
            "              (dropout): Dropout(p=0.1, inplace=False)\n",
            "            )\n",
            "            (output): BertSelfOutput(\n",
            "              (dense): Linear(in_features=768, out_features=768, bias=True)\n",
            "              (LayerNorm): LayerNorm((768,), eps=1e-12, elementwise_affine=True)\n",
            "              (dropout): Dropout(p=0.1, inplace=False)\n",
            "            )\n",
            "          )\n",
            "          (intermediate): BertIntermediate(\n",
            "            (dense): Linear(in_features=768, out_features=3072, bias=True)\n",
            "          )\n",
            "          (output): BertOutput(\n",
            "            (dense): Linear(in_features=3072, out_features=768, bias=True)\n",
            "            (LayerNorm): LayerNorm((768,), eps=1e-12, elementwise_affine=True)\n",
            "            (dropout): Dropout(p=0.1, inplace=False)\n",
            "          )\n",
            "        )\n",
            "        (4): BertLayer(\n",
            "          (attention): BertAttention(\n",
            "            (self): BertSelfAttention(\n",
            "              (query): Linear(in_features=768, out_features=768, bias=True)\n",
            "              (key): Linear(in_features=768, out_features=768, bias=True)\n",
            "              (value): Linear(in_features=768, out_features=768, bias=True)\n",
            "              (dropout): Dropout(p=0.1, inplace=False)\n",
            "            )\n",
            "            (output): BertSelfOutput(\n",
            "              (dense): Linear(in_features=768, out_features=768, bias=True)\n",
            "              (LayerNorm): LayerNorm((768,), eps=1e-12, elementwise_affine=True)\n",
            "              (dropout): Dropout(p=0.1, inplace=False)\n",
            "            )\n",
            "          )\n",
            "          (intermediate): BertIntermediate(\n",
            "            (dense): Linear(in_features=768, out_features=3072, bias=True)\n",
            "          )\n",
            "          (output): BertOutput(\n",
            "            (dense): Linear(in_features=3072, out_features=768, bias=True)\n",
            "            (LayerNorm): LayerNorm((768,), eps=1e-12, elementwise_affine=True)\n",
            "            (dropout): Dropout(p=0.1, inplace=False)\n",
            "          )\n",
            "        )\n",
            "        (5): BertLayer(\n",
            "          (attention): BertAttention(\n",
            "            (self): BertSelfAttention(\n",
            "              (query): Linear(in_features=768, out_features=768, bias=True)\n",
            "              (key): Linear(in_features=768, out_features=768, bias=True)\n",
            "              (value): Linear(in_features=768, out_features=768, bias=True)\n",
            "              (dropout): Dropout(p=0.1, inplace=False)\n",
            "            )\n",
            "            (output): BertSelfOutput(\n",
            "              (dense): Linear(in_features=768, out_features=768, bias=True)\n",
            "              (LayerNorm): LayerNorm((768,), eps=1e-12, elementwise_affine=True)\n",
            "              (dropout): Dropout(p=0.1, inplace=False)\n",
            "            )\n",
            "          )\n",
            "          (intermediate): BertIntermediate(\n",
            "            (dense): Linear(in_features=768, out_features=3072, bias=True)\n",
            "          )\n",
            "          (output): BertOutput(\n",
            "            (dense): Linear(in_features=3072, out_features=768, bias=True)\n",
            "            (LayerNorm): LayerNorm((768,), eps=1e-12, elementwise_affine=True)\n",
            "            (dropout): Dropout(p=0.1, inplace=False)\n",
            "          )\n",
            "        )\n",
            "        (6): BertLayer(\n",
            "          (attention): BertAttention(\n",
            "            (self): BertSelfAttention(\n",
            "              (query): Linear(in_features=768, out_features=768, bias=True)\n",
            "              (key): Linear(in_features=768, out_features=768, bias=True)\n",
            "              (value): Linear(in_features=768, out_features=768, bias=True)\n",
            "              (dropout): Dropout(p=0.1, inplace=False)\n",
            "            )\n",
            "            (output): BertSelfOutput(\n",
            "              (dense): Linear(in_features=768, out_features=768, bias=True)\n",
            "              (LayerNorm): LayerNorm((768,), eps=1e-12, elementwise_affine=True)\n",
            "              (dropout): Dropout(p=0.1, inplace=False)\n",
            "            )\n",
            "          )\n",
            "          (intermediate): BertIntermediate(\n",
            "            (dense): Linear(in_features=768, out_features=3072, bias=True)\n",
            "          )\n",
            "          (output): BertOutput(\n",
            "            (dense): Linear(in_features=3072, out_features=768, bias=True)\n",
            "            (LayerNorm): LayerNorm((768,), eps=1e-12, elementwise_affine=True)\n",
            "            (dropout): Dropout(p=0.1, inplace=False)\n",
            "          )\n",
            "        )\n",
            "        (7): BertLayer(\n",
            "          (attention): BertAttention(\n",
            "            (self): BertSelfAttention(\n",
            "              (query): Linear(in_features=768, out_features=768, bias=True)\n",
            "              (key): Linear(in_features=768, out_features=768, bias=True)\n",
            "              (value): Linear(in_features=768, out_features=768, bias=True)\n",
            "              (dropout): Dropout(p=0.1, inplace=False)\n",
            "            )\n",
            "            (output): BertSelfOutput(\n",
            "              (dense): Linear(in_features=768, out_features=768, bias=True)\n",
            "              (LayerNorm): LayerNorm((768,), eps=1e-12, elementwise_affine=True)\n",
            "              (dropout): Dropout(p=0.1, inplace=False)\n",
            "            )\n",
            "          )\n",
            "          (intermediate): BertIntermediate(\n",
            "            (dense): Linear(in_features=768, out_features=3072, bias=True)\n",
            "          )\n",
            "          (output): BertOutput(\n",
            "            (dense): Linear(in_features=3072, out_features=768, bias=True)\n",
            "            (LayerNorm): LayerNorm((768,), eps=1e-12, elementwise_affine=True)\n",
            "            (dropout): Dropout(p=0.1, inplace=False)\n",
            "          )\n",
            "        )\n",
            "        (8): BertLayer(\n",
            "          (attention): BertAttention(\n",
            "            (self): BertSelfAttention(\n",
            "              (query): Linear(in_features=768, out_features=768, bias=True)\n",
            "              (key): Linear(in_features=768, out_features=768, bias=True)\n",
            "              (value): Linear(in_features=768, out_features=768, bias=True)\n",
            "              (dropout): Dropout(p=0.1, inplace=False)\n",
            "            )\n",
            "            (output): BertSelfOutput(\n",
            "              (dense): Linear(in_features=768, out_features=768, bias=True)\n",
            "              (LayerNorm): LayerNorm((768,), eps=1e-12, elementwise_affine=True)\n",
            "              (dropout): Dropout(p=0.1, inplace=False)\n",
            "            )\n",
            "          )\n",
            "          (intermediate): BertIntermediate(\n",
            "            (dense): Linear(in_features=768, out_features=3072, bias=True)\n",
            "          )\n",
            "          (output): BertOutput(\n",
            "            (dense): Linear(in_features=3072, out_features=768, bias=True)\n",
            "            (LayerNorm): LayerNorm((768,), eps=1e-12, elementwise_affine=True)\n",
            "            (dropout): Dropout(p=0.1, inplace=False)\n",
            "          )\n",
            "        )\n",
            "        (9): BertLayer(\n",
            "          (attention): BertAttention(\n",
            "            (self): BertSelfAttention(\n",
            "              (query): Linear(in_features=768, out_features=768, bias=True)\n",
            "              (key): Linear(in_features=768, out_features=768, bias=True)\n",
            "              (value): Linear(in_features=768, out_features=768, bias=True)\n",
            "              (dropout): Dropout(p=0.1, inplace=False)\n",
            "            )\n",
            "            (output): BertSelfOutput(\n",
            "              (dense): Linear(in_features=768, out_features=768, bias=True)\n",
            "              (LayerNorm): LayerNorm((768,), eps=1e-12, elementwise_affine=True)\n",
            "              (dropout): Dropout(p=0.1, inplace=False)\n",
            "            )\n",
            "          )\n",
            "          (intermediate): BertIntermediate(\n",
            "            (dense): Linear(in_features=768, out_features=3072, bias=True)\n",
            "          )\n",
            "          (output): BertOutput(\n",
            "            (dense): Linear(in_features=3072, out_features=768, bias=True)\n",
            "            (LayerNorm): LayerNorm((768,), eps=1e-12, elementwise_affine=True)\n",
            "            (dropout): Dropout(p=0.1, inplace=False)\n",
            "          )\n",
            "        )\n",
            "        (10): BertLayer(\n",
            "          (attention): BertAttention(\n",
            "            (self): BertSelfAttention(\n",
            "              (query): Linear(in_features=768, out_features=768, bias=True)\n",
            "              (key): Linear(in_features=768, out_features=768, bias=True)\n",
            "              (value): Linear(in_features=768, out_features=768, bias=True)\n",
            "              (dropout): Dropout(p=0.1, inplace=False)\n",
            "            )\n",
            "            (output): BertSelfOutput(\n",
            "              (dense): Linear(in_features=768, out_features=768, bias=True)\n",
            "              (LayerNorm): LayerNorm((768,), eps=1e-12, elementwise_affine=True)\n",
            "              (dropout): Dropout(p=0.1, inplace=False)\n",
            "            )\n",
            "          )\n",
            "          (intermediate): BertIntermediate(\n",
            "            (dense): Linear(in_features=768, out_features=3072, bias=True)\n",
            "          )\n",
            "          (output): BertOutput(\n",
            "            (dense): Linear(in_features=3072, out_features=768, bias=True)\n",
            "            (LayerNorm): LayerNorm((768,), eps=1e-12, elementwise_affine=True)\n",
            "            (dropout): Dropout(p=0.1, inplace=False)\n",
            "          )\n",
            "        )\n",
            "        (11): BertLayer(\n",
            "          (attention): BertAttention(\n",
            "            (self): BertSelfAttention(\n",
            "              (query): Linear(in_features=768, out_features=768, bias=True)\n",
            "              (key): Linear(in_features=768, out_features=768, bias=True)\n",
            "              (value): Linear(in_features=768, out_features=768, bias=True)\n",
            "              (dropout): Dropout(p=0.1, inplace=False)\n",
            "            )\n",
            "            (output): BertSelfOutput(\n",
            "              (dense): Linear(in_features=768, out_features=768, bias=True)\n",
            "              (LayerNorm): LayerNorm((768,), eps=1e-12, elementwise_affine=True)\n",
            "              (dropout): Dropout(p=0.1, inplace=False)\n",
            "            )\n",
            "          )\n",
            "          (intermediate): BertIntermediate(\n",
            "            (dense): Linear(in_features=768, out_features=3072, bias=True)\n",
            "          )\n",
            "          (output): BertOutput(\n",
            "            (dense): Linear(in_features=3072, out_features=768, bias=True)\n",
            "            (LayerNorm): LayerNorm((768,), eps=1e-12, elementwise_affine=True)\n",
            "            (dropout): Dropout(p=0.1, inplace=False)\n",
            "          )\n",
            "        )\n",
            "      )\n",
            "    )\n",
            "    (pooler): BertPooler(\n",
            "      (dense): Linear(in_features=768, out_features=768, bias=True)\n",
            "      (activation): Tanh()\n",
            "    )\n",
            "  )\n",
            "  (hidden): Linear(in_features=768, out_features=64, bias=True)\n",
            "  (activation): LeakyReLU(negative_slope=0.1)\n",
            "  (output): Linear(in_features=64, out_features=1, bias=True)\n",
            ")\n"
          ],
          "name": "stdout"
        }
      ]
    },
    {
      "cell_type": "code",
      "metadata": {
        "execution": {
          "iopub.execute_input": "2021-02-13T21:33:28.271554Z",
          "iopub.status.busy": "2021-02-13T21:33:28.270971Z",
          "iopub.status.idle": "2021-02-13T21:33:28.274920Z",
          "shell.execute_reply": "2021-02-13T21:33:28.274481Z"
        },
        "papermill": {
          "duration": 1.422194,
          "end_time": "2021-02-13T21:33:28.275017",
          "exception": false,
          "start_time": "2021-02-13T21:33:26.852823",
          "status": "completed"
        },
        "tags": [],
        "id": "wpOAasqR17sy"
      },
      "source": [
        "optimizer = AdamW(model.parameters(), lr=3e-6)\n",
        "if device.type == 'gpu':\n",
        "    torch.cuda.empty_cache()"
      ],
      "execution_count": null,
      "outputs": []
    },
    {
      "cell_type": "code",
      "metadata": {
        "execution": {
          "iopub.execute_input": "2021-02-13T21:33:31.321629Z",
          "iopub.status.busy": "2021-02-13T21:33:31.320917Z",
          "iopub.status.idle": "2021-02-14T01:48:10.746698Z",
          "shell.execute_reply": "2021-02-14T01:48:10.747115Z"
        },
        "papermill": {
          "duration": 15281.048944,
          "end_time": "2021-02-14T01:48:10.747249",
          "exception": false,
          "start_time": "2021-02-13T21:33:29.698305",
          "status": "completed"
        },
        "tags": [],
        "id": "tXKYIa6N17s1",
        "outputId": "b218e369-55ab-4e7d-b01d-0cbf40c118dd"
      },
      "source": [
        "epochs = 1\n",
        "n_batches = df.shape[0] // batch_size\n",
        "batch_losses = []\n",
        "\n",
        "for epoch_num in range(epochs):\n",
        "    dataset.shuffle()\n",
        "    model.train()\n",
        "    train_loss = 0\n",
        "    for step_num in tqdm(range(len(dataset))):\n",
        "        batch_data = dataset[step_num]\n",
        "        token_ids, masks, labels = tuple(t.to(device) for t in batch_data)\n",
        "\n",
        "        loss, _ = model(input_ids=token_ids, attention_mask=masks, labels=labels)\n",
        "\n",
        "        train_loss += loss.item()\n",
        "        \n",
        "        model.zero_grad()\n",
        "        loss.backward()        \n",
        "\n",
        "        clip_grad_norm_(parameters=model.parameters(), max_norm=1.0)\n",
        "        optimizer.step()\n",
        "        \n",
        "        batch_losses.append(train_loss / (step_num + 1))"
      ],
      "execution_count": null,
      "outputs": [
        {
          "output_type": "stream",
          "text": [
            "100%|██████████| 17258/17258 [4:14:39<00:00,  1.13it/s]\n"
          ],
          "name": "stderr"
        }
      ]
    },
    {
      "cell_type": "code",
      "metadata": {
        "execution": {
          "iopub.execute_input": "2021-02-14T01:48:24.285288Z",
          "iopub.status.busy": "2021-02-14T01:48:24.283369Z",
          "iopub.status.idle": "2021-02-14T01:48:24.286141Z",
          "shell.execute_reply": "2021-02-14T01:48:24.286604Z"
        },
        "papermill": {
          "duration": 7.05084,
          "end_time": "2021-02-14T01:48:24.286725",
          "exception": false,
          "start_time": "2021-02-14T01:48:17.235885",
          "status": "completed"
        },
        "tags": [],
        "id": "5-_GBPy917tL"
      },
      "source": [
        "with open('loss.pkl', 'wb') as f:\n",
        "    pickle.dump(batch_losses, f)"
      ],
      "execution_count": null,
      "outputs": []
    },
    {
      "cell_type": "code",
      "metadata": {
        "execution": {
          "iopub.execute_input": "2021-02-14T01:48:37.068148Z",
          "iopub.status.busy": "2021-02-14T01:48:37.067332Z",
          "iopub.status.idle": "2021-02-14T01:48:38.368007Z",
          "shell.execute_reply": "2021-02-14T01:48:38.367484Z"
        },
        "papermill": {
          "duration": 7.891547,
          "end_time": "2021-02-14T01:48:38.368109",
          "exception": false,
          "start_time": "2021-02-14T01:48:30.476562",
          "status": "completed"
        },
        "tags": [],
        "id": "gbUVInW517tX"
      },
      "source": [
        "model.bert.save_pretrained('bert_model')"
      ],
      "execution_count": null,
      "outputs": []
    }
  ]
}
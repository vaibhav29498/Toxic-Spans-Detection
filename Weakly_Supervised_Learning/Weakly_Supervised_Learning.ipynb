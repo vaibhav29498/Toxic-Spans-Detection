{
  "nbformat": 4,
  "nbformat_minor": 0,
  "metadata": {
    "kernelspec": {
      "display_name": "Python 3",
      "language": "python",
      "name": "python3"
    },
    "language_info": {
      "codemirror_mode": {
        "name": "ipython",
        "version": 3
      },
      "file_extension": ".py",
      "mimetype": "text/x-python",
      "name": "python",
      "nbconvert_exporter": "python",
      "pygments_lexer": "ipython3",
      "version": "3.7.9"
    },
    "papermill": {
      "default_parameters": {},
      "duration": 7248.441008,
      "end_time": "2021-03-14T16:41:03.153686",
      "environment_variables": {},
      "exception": null,
      "input_path": "__notebook__.ipynb",
      "output_path": "__notebook__.ipynb",
      "parameters": {},
      "start_time": "2021-03-14T14:40:14.712678",
      "version": "2.2.2"
    },
    "widgets": {
      "application/vnd.jupyter.widget-state+json": {}
    },
    "colab": {
      "name": "Weakly Supervised Learning.ipynb",
      "provenance": []
    }
  },
  "cells": [
    {
      "cell_type": "code",
      "metadata": {
        "execution": {
          "iopub.execute_input": "2021-03-14T14:40:19.643300Z",
          "iopub.status.busy": "2021-03-14T14:40:19.642468Z",
          "iopub.status.idle": "2021-03-14T14:40:27.339981Z",
          "shell.execute_reply": "2021-03-14T14:40:27.339283Z"
        },
        "papermill": {
          "duration": 7.738807,
          "end_time": "2021-03-14T14:40:27.340181",
          "exception": false,
          "start_time": "2021-03-14T14:40:19.601374",
          "status": "completed"
        },
        "tags": [],
        "id": "pnjmdR3hzdot",
        "outputId": "36077d6d-f7c4-4e8b-bca8-354284217792"
      },
      "source": [
        "!pip install transformers"
      ],
      "execution_count": null,
      "outputs": [
        {
          "output_type": "stream",
          "text": [
            "Requirement already satisfied: transformers in /opt/conda/lib/python3.7/site-packages (4.2.2)\r\n",
            "Requirement already satisfied: numpy in /opt/conda/lib/python3.7/site-packages (from transformers) (1.19.5)\r\n",
            "Requirement already satisfied: tokenizers==0.9.4 in /opt/conda/lib/python3.7/site-packages (from transformers) (0.9.4)\r\n",
            "Requirement already satisfied: packaging in /opt/conda/lib/python3.7/site-packages (from transformers) (20.8)\r\n",
            "Requirement already satisfied: filelock in /opt/conda/lib/python3.7/site-packages (from transformers) (3.0.12)\r\n",
            "Requirement already satisfied: sacremoses in /opt/conda/lib/python3.7/site-packages (from transformers) (0.0.43)\r\n",
            "Requirement already satisfied: requests in /opt/conda/lib/python3.7/site-packages (from transformers) (2.25.1)\r\n",
            "Requirement already satisfied: importlib-metadata in /opt/conda/lib/python3.7/site-packages (from transformers) (3.3.0)\r\n",
            "Requirement already satisfied: tqdm>=4.27 in /opt/conda/lib/python3.7/site-packages (from transformers) (4.55.1)\r\n",
            "Requirement already satisfied: regex!=2019.12.17 in /opt/conda/lib/python3.7/site-packages (from transformers) (2020.11.13)\r\n",
            "Requirement already satisfied: typing-extensions>=3.6.4 in /opt/conda/lib/python3.7/site-packages (from importlib-metadata->transformers) (3.7.4.3)\r\n",
            "Requirement already satisfied: zipp>=0.5 in /opt/conda/lib/python3.7/site-packages (from importlib-metadata->transformers) (3.4.0)\r\n",
            "Requirement already satisfied: pyparsing>=2.0.2 in /opt/conda/lib/python3.7/site-packages (from packaging->transformers) (2.4.7)\r\n",
            "Requirement already satisfied: idna<3,>=2.5 in /opt/conda/lib/python3.7/site-packages (from requests->transformers) (2.10)\r\n",
            "Requirement already satisfied: urllib3<1.27,>=1.21.1 in /opt/conda/lib/python3.7/site-packages (from requests->transformers) (1.26.2)\r\n",
            "Requirement already satisfied: certifi>=2017.4.17 in /opt/conda/lib/python3.7/site-packages (from requests->transformers) (2020.12.5)\r\n",
            "Requirement already satisfied: chardet<5,>=3.0.2 in /opt/conda/lib/python3.7/site-packages (from requests->transformers) (3.0.4)\r\n",
            "Requirement already satisfied: joblib in /opt/conda/lib/python3.7/site-packages (from sacremoses->transformers) (1.0.0)\r\n",
            "Requirement already satisfied: click in /opt/conda/lib/python3.7/site-packages (from sacremoses->transformers) (7.1.2)\r\n",
            "Requirement already satisfied: six in /opt/conda/lib/python3.7/site-packages (from sacremoses->transformers) (1.15.0)\r\n"
          ],
          "name": "stdout"
        }
      ]
    },
    {
      "cell_type": "code",
      "metadata": {
        "_cell_guid": "b1076dfc-b9ad-4769-8c92-a6c4dae69d19",
        "_uuid": "8f2839f25d086af736a60e9eeb907d3b93b6e0e5",
        "execution": {
          "iopub.execute_input": "2021-03-14T14:40:27.389944Z",
          "iopub.status.busy": "2021-03-14T14:40:27.389203Z",
          "iopub.status.idle": "2021-03-14T14:40:34.586014Z",
          "shell.execute_reply": "2021-03-14T14:40:34.585027Z"
        },
        "papermill": {
          "duration": 7.224279,
          "end_time": "2021-03-14T14:40:34.586154",
          "exception": false,
          "start_time": "2021-03-14T14:40:27.361875",
          "status": "completed"
        },
        "tags": [],
        "id": "X30yAmhMzdps"
      },
      "source": [
        "import numpy as np\n",
        "import pandas as pd\n",
        "import os\n",
        "import gc\n",
        "import random\n",
        "import torch\n",
        "import matplotlib.pyplot as plt\n",
        "from sklearn.metrics import precision_recall_curve, average_precision_score\n",
        "from sklearn.model_selection import train_test_split\n",
        "from transformers import BertTokenizer, BertModel, BertConfig, AdamW\n",
        "from torch import nn\n",
        "from keras.preprocessing.sequence import pad_sequences\n",
        "from torch.utils.data import TensorDataset, DataLoader, SequentialSampler\n",
        "from torch.optim import Adam\n",
        "from torch.nn.utils import clip_grad_norm_\n",
        "from IPython.display import clear_output\n",
        "from tqdm import tqdm\n",
        "import tqdm.notebook as tq\n",
        "import pickle"
      ],
      "execution_count": null,
      "outputs": []
    },
    {
      "cell_type": "code",
      "metadata": {
        "execution": {
          "iopub.execute_input": "2021-03-14T14:40:34.629919Z",
          "iopub.status.busy": "2021-03-14T14:40:34.629256Z",
          "iopub.status.idle": "2021-03-14T14:40:36.216684Z",
          "shell.execute_reply": "2021-03-14T14:40:36.216134Z"
        },
        "papermill": {
          "duration": 1.610548,
          "end_time": "2021-03-14T14:40:36.216819",
          "exception": false,
          "start_time": "2021-03-14T14:40:34.606271",
          "status": "completed"
        },
        "tags": [],
        "id": "mEWEny80zdqG"
      },
      "source": [
        "df = pd.read_pickle('df.pkl')"
      ],
      "execution_count": null,
      "outputs": []
    },
    {
      "cell_type": "code",
      "metadata": {
        "execution": {
          "iopub.execute_input": "2021-03-14T14:40:36.277541Z",
          "iopub.status.busy": "2021-03-14T14:40:36.275866Z",
          "iopub.status.idle": "2021-03-14T14:40:36.286216Z",
          "shell.execute_reply": "2021-03-14T14:40:36.286622Z"
        },
        "papermill": {
          "duration": 0.049187,
          "end_time": "2021-03-14T14:40:36.286750",
          "exception": false,
          "start_time": "2021-03-14T14:40:36.237563",
          "status": "completed"
        },
        "tags": [],
        "id": "UkafN24QzdqM",
        "outputId": "750a6194-1a1e-459b-963f-084655c6db3d"
      },
      "source": [
        "df"
      ],
      "execution_count": null,
      "outputs": [
        {
          "output_type": "execute_result",
          "data": {
            "text/html": [
              "<div>\n",
              "<style scoped>\n",
              "    .dataframe tbody tr th:only-of-type {\n",
              "        vertical-align: middle;\n",
              "    }\n",
              "\n",
              "    .dataframe tbody tr th {\n",
              "        vertical-align: top;\n",
              "    }\n",
              "\n",
              "    .dataframe thead th {\n",
              "        text-align: right;\n",
              "    }\n",
              "</style>\n",
              "<table border=\"1\" class=\"dataframe\">\n",
              "  <thead>\n",
              "    <tr style=\"text-align: right;\">\n",
              "      <th></th>\n",
              "      <th>text</th>\n",
              "      <th>toxic?</th>\n",
              "      <th>id</th>\n",
              "    </tr>\n",
              "  </thead>\n",
              "  <tbody>\n",
              "    <tr>\n",
              "      <th>0</th>\n",
              "      <td>Explanation\\nWhy the edits made under my usern...</td>\n",
              "      <td>0</td>\n",
              "      <td>NaN</td>\n",
              "    </tr>\n",
              "    <tr>\n",
              "      <th>1</th>\n",
              "      <td>D'aww! He matches this background colour I'm s...</td>\n",
              "      <td>0</td>\n",
              "      <td>NaN</td>\n",
              "    </tr>\n",
              "    <tr>\n",
              "      <th>2</th>\n",
              "      <td>Hey man, I'm really not trying to edit war. It...</td>\n",
              "      <td>0</td>\n",
              "      <td>NaN</td>\n",
              "    </tr>\n",
              "    <tr>\n",
              "      <th>3</th>\n",
              "      <td>\"\\nMore\\nI can't make any real suggestions on ...</td>\n",
              "      <td>0</td>\n",
              "      <td>NaN</td>\n",
              "    </tr>\n",
              "    <tr>\n",
              "      <th>4</th>\n",
              "      <td>You, sir, are my hero. Any chance you remember...</td>\n",
              "      <td>0</td>\n",
              "      <td>NaN</td>\n",
              "    </tr>\n",
              "    <tr>\n",
              "      <th>...</th>\n",
              "      <td>...</td>\n",
              "      <td>...</td>\n",
              "      <td>...</td>\n",
              "    </tr>\n",
              "    <tr>\n",
              "      <th>281274</th>\n",
              "      <td>@USER @USER Nothing about trump is human or no...</td>\n",
              "      <td>1</td>\n",
              "      <td>BC2101</td>\n",
              "    </tr>\n",
              "    <tr>\n",
              "      <th>281275</th>\n",
              "      <td>@USER Oh shit. That sounds like a cool time tho</td>\n",
              "      <td>1</td>\n",
              "      <td>BC2102</td>\n",
              "    </tr>\n",
              "    <tr>\n",
              "      <th>281276</th>\n",
              "      <td>@USER @USER I gotta say that shit to you one t...</td>\n",
              "      <td>1</td>\n",
              "      <td>BC2103</td>\n",
              "    </tr>\n",
              "    <tr>\n",
              "      <th>281277</th>\n",
              "      <td>@USER tRUmp does everything he can to destroy ...</td>\n",
              "      <td>1</td>\n",
              "      <td>BC2104</td>\n",
              "    </tr>\n",
              "    <tr>\n",
              "      <th>281278</th>\n",
              "      <td>I was gonna tweet some shit like holding hands...</td>\n",
              "      <td>1</td>\n",
              "      <td>BC2105</td>\n",
              "    </tr>\n",
              "  </tbody>\n",
              "</table>\n",
              "<p>281279 rows × 3 columns</p>\n",
              "</div>"
            ],
            "text/plain": [
              "                                                     text  toxic?      id\n",
              "0       Explanation\\nWhy the edits made under my usern...       0     NaN\n",
              "1       D'aww! He matches this background colour I'm s...       0     NaN\n",
              "2       Hey man, I'm really not trying to edit war. It...       0     NaN\n",
              "3       \"\\nMore\\nI can't make any real suggestions on ...       0     NaN\n",
              "4       You, sir, are my hero. Any chance you remember...       0     NaN\n",
              "...                                                   ...     ...     ...\n",
              "281274  @USER @USER Nothing about trump is human or no...       1  BC2101\n",
              "281275    @USER Oh shit. That sounds like a cool time tho       1  BC2102\n",
              "281276  @USER @USER I gotta say that shit to you one t...       1  BC2103\n",
              "281277  @USER tRUmp does everything he can to destroy ...       1  BC2104\n",
              "281278  I was gonna tweet some shit like holding hands...       1  BC2105\n",
              "\n",
              "[281279 rows x 3 columns]"
            ]
          },
          "metadata": {
            "tags": []
          },
          "execution_count": 4
        }
      ]
    },
    {
      "cell_type": "code",
      "metadata": {
        "execution": {
          "iopub.execute_input": "2021-03-14T14:40:36.334019Z",
          "iopub.status.busy": "2021-03-14T14:40:36.332063Z",
          "iopub.status.idle": "2021-03-14T14:40:36.337335Z",
          "shell.execute_reply": "2021-03-14T14:40:36.336827Z"
        },
        "papermill": {
          "duration": 0.030501,
          "end_time": "2021-03-14T14:40:36.337448",
          "exception": false,
          "start_time": "2021-03-14T14:40:36.306947",
          "status": "completed"
        },
        "tags": [],
        "id": "P2Jvo-WFzdqP",
        "outputId": "c594222c-1491-4245-c142-7d126e0ab669"
      },
      "source": [
        "df['toxic?'].mean()"
      ],
      "execution_count": null,
      "outputs": [
        {
          "output_type": "execute_result",
          "data": {
            "text/plain": [
              "0.18884097284191143"
            ]
          },
          "metadata": {
            "tags": []
          },
          "execution_count": 5
        }
      ]
    },
    {
      "cell_type": "code",
      "metadata": {
        "execution": {
          "iopub.execute_input": "2021-03-14T14:40:36.383067Z",
          "iopub.status.busy": "2021-03-14T14:40:36.382261Z",
          "iopub.status.idle": "2021-03-14T14:50:35.371908Z",
          "shell.execute_reply": "2021-03-14T14:50:35.371437Z"
        },
        "papermill": {
          "duration": 599.014248,
          "end_time": "2021-03-14T14:50:35.372037",
          "exception": false,
          "start_time": "2021-03-14T14:40:36.357789",
          "status": "completed"
        },
        "tags": [],
        "colab": {
          "referenced_widgets": [
            "1f8f5c17f511446897df4d5feb6afa4b"
          ]
        },
        "id": "vd19l2iYzdqS",
        "outputId": "65e20c40-4156-4c48-a9ed-8658c8c15115"
      },
      "source": [
        "tokenizer = BertTokenizer.from_pretrained('bert-base-uncased', do_lower_case=True)\n",
        "tqdm.pandas()\n",
        "num_tokens = 512\n",
        "encoded_info = df['text'].progress_apply(\n",
        "    lambda x: tokenizer.encode_plus(x,\n",
        "                                    max_length = num_tokens,\n",
        "                                    padding = 'max_length',\n",
        "                                    return_special_tokens_mask=True,\n",
        "                                    add_special_tokens=False\n",
        "                                   )).values"
      ],
      "execution_count": null,
      "outputs": [
        {
          "output_type": "display_data",
          "data": {
            "application/vnd.jupyter.widget-view+json": {
              "model_id": "1f8f5c17f511446897df4d5feb6afa4b",
              "version_major": 2,
              "version_minor": 0
            },
            "text/plain": [
              "Downloading:   0%|          | 0.00/232k [00:00<?, ?B/s]"
            ]
          },
          "metadata": {
            "tags": []
          }
        },
        {
          "output_type": "stream",
          "text": [
            "/opt/conda/lib/python3.7/site-packages/tqdm/std.py:701: FutureWarning: The Panel class is removed from pandas. Accessing it from the top-level namespace will also be removed in the next version\n",
            "  from pandas import Panel\n",
            "100%|██████████| 281279/281279 [09:57<00:00, 470.37it/s] \n"
          ],
          "name": "stderr"
        }
      ]
    },
    {
      "cell_type": "code",
      "metadata": {
        "execution": {
          "iopub.execute_input": "2021-03-14T14:50:38.017944Z",
          "iopub.status.busy": "2021-03-14T14:50:38.007783Z",
          "iopub.status.idle": "2021-03-14T14:50:54.221341Z",
          "shell.execute_reply": "2021-03-14T14:50:54.220899Z"
        },
        "papermill": {
          "duration": 17.530915,
          "end_time": "2021-03-14T14:50:54.221456",
          "exception": false,
          "start_time": "2021-03-14T14:50:36.690541",
          "status": "completed"
        },
        "tags": [],
        "id": "HUkwQHN_zdqU",
        "outputId": "2151ca06-d8ab-4e1f-ddde-0c28ca64575e"
      },
      "source": [
        "df['tokens'] = [x['input_ids'] for x in encoded_info]\n",
        "df['masks'] = [x['special_tokens_mask'] for x in encoded_info]\n",
        "\n",
        "df.drop(df[df['tokens'].map(len) > num_tokens].index, inplace=True)\n",
        "df.shape"
      ],
      "execution_count": null,
      "outputs": [
        {
          "output_type": "execute_result",
          "data": {
            "text/plain": [
              "(276179, 5)"
            ]
          },
          "metadata": {
            "tags": []
          },
          "execution_count": 7
        }
      ]
    },
    {
      "cell_type": "code",
      "metadata": {
        "execution": {
          "iopub.execute_input": "2021-03-14T14:50:56.894255Z",
          "iopub.status.busy": "2021-03-14T14:50:56.893630Z",
          "iopub.status.idle": "2021-03-14T14:50:56.899521Z",
          "shell.execute_reply": "2021-03-14T14:50:56.899092Z"
        },
        "papermill": {
          "duration": 1.324607,
          "end_time": "2021-03-14T14:50:56.899695",
          "exception": false,
          "start_time": "2021-03-14T14:50:55.575088",
          "status": "completed"
        },
        "tags": [],
        "id": "oiNyJtw6zdqb",
        "outputId": "ee007416-9f03-4d6a-e02d-6f07179a8704"
      },
      "source": [
        "df['toxic?'].mean()"
      ],
      "execution_count": null,
      "outputs": [
        {
          "output_type": "execute_result",
          "data": {
            "text/plain": [
              "0.19060102324941433"
            ]
          },
          "metadata": {
            "tags": []
          },
          "execution_count": 8
        }
      ]
    },
    {
      "cell_type": "code",
      "metadata": {
        "execution": {
          "iopub.execute_input": "2021-03-14T14:51:02.981652Z",
          "iopub.status.busy": "2021-03-14T14:51:02.980749Z",
          "iopub.status.idle": "2021-03-14T14:51:02.995029Z",
          "shell.execute_reply": "2021-03-14T14:51:02.996161Z"
        },
        "papermill": {
          "duration": 4.763155,
          "end_time": "2021-03-14T14:51:02.996399",
          "exception": false,
          "start_time": "2021-03-14T14:50:58.233244",
          "status": "completed"
        },
        "tags": [],
        "id": "IP3rySGRzdqd",
        "outputId": "aebba567-d2ce-4539-8761-45980e1be835"
      },
      "source": [
        "del encoded_info\n",
        "gc.collect()"
      ],
      "execution_count": null,
      "outputs": [
        {
          "output_type": "execute_result",
          "data": {
            "text/plain": [
              "66"
            ]
          },
          "metadata": {
            "tags": []
          },
          "execution_count": 9
        }
      ]
    },
    {
      "cell_type": "code",
      "metadata": {
        "execution": {
          "iopub.execute_input": "2021-03-14T14:51:06.246726Z",
          "iopub.status.busy": "2021-03-14T14:51:06.246070Z",
          "iopub.status.idle": "2021-03-14T14:51:26.155355Z",
          "shell.execute_reply": "2021-03-14T14:51:26.154914Z"
        },
        "papermill": {
          "duration": 21.646478,
          "end_time": "2021-03-14T14:51:26.155505",
          "exception": false,
          "start_time": "2021-03-14T14:51:04.509027",
          "status": "completed"
        },
        "tags": [],
        "colab": {
          "referenced_widgets": [
            "172565d4ae464b5ea43cc48e3a40e540",
            "97df5ae2fb4b4406a26da9c060b9f42a"
          ]
        },
        "id": "l--_aIdfzdqf",
        "outputId": "a9f3aeaa-bbd9-4711-a7a9-3f48789fa444"
      },
      "source": [
        "device = torch.device(\"cuda\" if torch.cuda.is_available() else \"cpu\")\n",
        "config = BertConfig.from_pretrained('bert-base-uncased', output_hidden_states=True)\n",
        "bert = BertModel.from_pretrained('bert-base-uncased', config=config).to(device)\n",
        "bert.eval()"
      ],
      "execution_count": null,
      "outputs": [
        {
          "output_type": "display_data",
          "data": {
            "application/vnd.jupyter.widget-view+json": {
              "model_id": "172565d4ae464b5ea43cc48e3a40e540",
              "version_major": 2,
              "version_minor": 0
            },
            "text/plain": [
              "Downloading:   0%|          | 0.00/433 [00:00<?, ?B/s]"
            ]
          },
          "metadata": {
            "tags": []
          }
        },
        {
          "output_type": "display_data",
          "data": {
            "application/vnd.jupyter.widget-view+json": {
              "model_id": "97df5ae2fb4b4406a26da9c060b9f42a",
              "version_major": 2,
              "version_minor": 0
            },
            "text/plain": [
              "Downloading:   0%|          | 0.00/440M [00:00<?, ?B/s]"
            ]
          },
          "metadata": {
            "tags": []
          }
        },
        {
          "output_type": "execute_result",
          "data": {
            "text/plain": [
              "BertModel(\n",
              "  (embeddings): BertEmbeddings(\n",
              "    (word_embeddings): Embedding(30522, 768, padding_idx=0)\n",
              "    (position_embeddings): Embedding(512, 768)\n",
              "    (token_type_embeddings): Embedding(2, 768)\n",
              "    (LayerNorm): LayerNorm((768,), eps=1e-12, elementwise_affine=True)\n",
              "    (dropout): Dropout(p=0.1, inplace=False)\n",
              "  )\n",
              "  (encoder): BertEncoder(\n",
              "    (layer): ModuleList(\n",
              "      (0): BertLayer(\n",
              "        (attention): BertAttention(\n",
              "          (self): BertSelfAttention(\n",
              "            (query): Linear(in_features=768, out_features=768, bias=True)\n",
              "            (key): Linear(in_features=768, out_features=768, bias=True)\n",
              "            (value): Linear(in_features=768, out_features=768, bias=True)\n",
              "            (dropout): Dropout(p=0.1, inplace=False)\n",
              "          )\n",
              "          (output): BertSelfOutput(\n",
              "            (dense): Linear(in_features=768, out_features=768, bias=True)\n",
              "            (LayerNorm): LayerNorm((768,), eps=1e-12, elementwise_affine=True)\n",
              "            (dropout): Dropout(p=0.1, inplace=False)\n",
              "          )\n",
              "        )\n",
              "        (intermediate): BertIntermediate(\n",
              "          (dense): Linear(in_features=768, out_features=3072, bias=True)\n",
              "        )\n",
              "        (output): BertOutput(\n",
              "          (dense): Linear(in_features=3072, out_features=768, bias=True)\n",
              "          (LayerNorm): LayerNorm((768,), eps=1e-12, elementwise_affine=True)\n",
              "          (dropout): Dropout(p=0.1, inplace=False)\n",
              "        )\n",
              "      )\n",
              "      (1): BertLayer(\n",
              "        (attention): BertAttention(\n",
              "          (self): BertSelfAttention(\n",
              "            (query): Linear(in_features=768, out_features=768, bias=True)\n",
              "            (key): Linear(in_features=768, out_features=768, bias=True)\n",
              "            (value): Linear(in_features=768, out_features=768, bias=True)\n",
              "            (dropout): Dropout(p=0.1, inplace=False)\n",
              "          )\n",
              "          (output): BertSelfOutput(\n",
              "            (dense): Linear(in_features=768, out_features=768, bias=True)\n",
              "            (LayerNorm): LayerNorm((768,), eps=1e-12, elementwise_affine=True)\n",
              "            (dropout): Dropout(p=0.1, inplace=False)\n",
              "          )\n",
              "        )\n",
              "        (intermediate): BertIntermediate(\n",
              "          (dense): Linear(in_features=768, out_features=3072, bias=True)\n",
              "        )\n",
              "        (output): BertOutput(\n",
              "          (dense): Linear(in_features=3072, out_features=768, bias=True)\n",
              "          (LayerNorm): LayerNorm((768,), eps=1e-12, elementwise_affine=True)\n",
              "          (dropout): Dropout(p=0.1, inplace=False)\n",
              "        )\n",
              "      )\n",
              "      (2): BertLayer(\n",
              "        (attention): BertAttention(\n",
              "          (self): BertSelfAttention(\n",
              "            (query): Linear(in_features=768, out_features=768, bias=True)\n",
              "            (key): Linear(in_features=768, out_features=768, bias=True)\n",
              "            (value): Linear(in_features=768, out_features=768, bias=True)\n",
              "            (dropout): Dropout(p=0.1, inplace=False)\n",
              "          )\n",
              "          (output): BertSelfOutput(\n",
              "            (dense): Linear(in_features=768, out_features=768, bias=True)\n",
              "            (LayerNorm): LayerNorm((768,), eps=1e-12, elementwise_affine=True)\n",
              "            (dropout): Dropout(p=0.1, inplace=False)\n",
              "          )\n",
              "        )\n",
              "        (intermediate): BertIntermediate(\n",
              "          (dense): Linear(in_features=768, out_features=3072, bias=True)\n",
              "        )\n",
              "        (output): BertOutput(\n",
              "          (dense): Linear(in_features=3072, out_features=768, bias=True)\n",
              "          (LayerNorm): LayerNorm((768,), eps=1e-12, elementwise_affine=True)\n",
              "          (dropout): Dropout(p=0.1, inplace=False)\n",
              "        )\n",
              "      )\n",
              "      (3): BertLayer(\n",
              "        (attention): BertAttention(\n",
              "          (self): BertSelfAttention(\n",
              "            (query): Linear(in_features=768, out_features=768, bias=True)\n",
              "            (key): Linear(in_features=768, out_features=768, bias=True)\n",
              "            (value): Linear(in_features=768, out_features=768, bias=True)\n",
              "            (dropout): Dropout(p=0.1, inplace=False)\n",
              "          )\n",
              "          (output): BertSelfOutput(\n",
              "            (dense): Linear(in_features=768, out_features=768, bias=True)\n",
              "            (LayerNorm): LayerNorm((768,), eps=1e-12, elementwise_affine=True)\n",
              "            (dropout): Dropout(p=0.1, inplace=False)\n",
              "          )\n",
              "        )\n",
              "        (intermediate): BertIntermediate(\n",
              "          (dense): Linear(in_features=768, out_features=3072, bias=True)\n",
              "        )\n",
              "        (output): BertOutput(\n",
              "          (dense): Linear(in_features=3072, out_features=768, bias=True)\n",
              "          (LayerNorm): LayerNorm((768,), eps=1e-12, elementwise_affine=True)\n",
              "          (dropout): Dropout(p=0.1, inplace=False)\n",
              "        )\n",
              "      )\n",
              "      (4): BertLayer(\n",
              "        (attention): BertAttention(\n",
              "          (self): BertSelfAttention(\n",
              "            (query): Linear(in_features=768, out_features=768, bias=True)\n",
              "            (key): Linear(in_features=768, out_features=768, bias=True)\n",
              "            (value): Linear(in_features=768, out_features=768, bias=True)\n",
              "            (dropout): Dropout(p=0.1, inplace=False)\n",
              "          )\n",
              "          (output): BertSelfOutput(\n",
              "            (dense): Linear(in_features=768, out_features=768, bias=True)\n",
              "            (LayerNorm): LayerNorm((768,), eps=1e-12, elementwise_affine=True)\n",
              "            (dropout): Dropout(p=0.1, inplace=False)\n",
              "          )\n",
              "        )\n",
              "        (intermediate): BertIntermediate(\n",
              "          (dense): Linear(in_features=768, out_features=3072, bias=True)\n",
              "        )\n",
              "        (output): BertOutput(\n",
              "          (dense): Linear(in_features=3072, out_features=768, bias=True)\n",
              "          (LayerNorm): LayerNorm((768,), eps=1e-12, elementwise_affine=True)\n",
              "          (dropout): Dropout(p=0.1, inplace=False)\n",
              "        )\n",
              "      )\n",
              "      (5): BertLayer(\n",
              "        (attention): BertAttention(\n",
              "          (self): BertSelfAttention(\n",
              "            (query): Linear(in_features=768, out_features=768, bias=True)\n",
              "            (key): Linear(in_features=768, out_features=768, bias=True)\n",
              "            (value): Linear(in_features=768, out_features=768, bias=True)\n",
              "            (dropout): Dropout(p=0.1, inplace=False)\n",
              "          )\n",
              "          (output): BertSelfOutput(\n",
              "            (dense): Linear(in_features=768, out_features=768, bias=True)\n",
              "            (LayerNorm): LayerNorm((768,), eps=1e-12, elementwise_affine=True)\n",
              "            (dropout): Dropout(p=0.1, inplace=False)\n",
              "          )\n",
              "        )\n",
              "        (intermediate): BertIntermediate(\n",
              "          (dense): Linear(in_features=768, out_features=3072, bias=True)\n",
              "        )\n",
              "        (output): BertOutput(\n",
              "          (dense): Linear(in_features=3072, out_features=768, bias=True)\n",
              "          (LayerNorm): LayerNorm((768,), eps=1e-12, elementwise_affine=True)\n",
              "          (dropout): Dropout(p=0.1, inplace=False)\n",
              "        )\n",
              "      )\n",
              "      (6): BertLayer(\n",
              "        (attention): BertAttention(\n",
              "          (self): BertSelfAttention(\n",
              "            (query): Linear(in_features=768, out_features=768, bias=True)\n",
              "            (key): Linear(in_features=768, out_features=768, bias=True)\n",
              "            (value): Linear(in_features=768, out_features=768, bias=True)\n",
              "            (dropout): Dropout(p=0.1, inplace=False)\n",
              "          )\n",
              "          (output): BertSelfOutput(\n",
              "            (dense): Linear(in_features=768, out_features=768, bias=True)\n",
              "            (LayerNorm): LayerNorm((768,), eps=1e-12, elementwise_affine=True)\n",
              "            (dropout): Dropout(p=0.1, inplace=False)\n",
              "          )\n",
              "        )\n",
              "        (intermediate): BertIntermediate(\n",
              "          (dense): Linear(in_features=768, out_features=3072, bias=True)\n",
              "        )\n",
              "        (output): BertOutput(\n",
              "          (dense): Linear(in_features=3072, out_features=768, bias=True)\n",
              "          (LayerNorm): LayerNorm((768,), eps=1e-12, elementwise_affine=True)\n",
              "          (dropout): Dropout(p=0.1, inplace=False)\n",
              "        )\n",
              "      )\n",
              "      (7): BertLayer(\n",
              "        (attention): BertAttention(\n",
              "          (self): BertSelfAttention(\n",
              "            (query): Linear(in_features=768, out_features=768, bias=True)\n",
              "            (key): Linear(in_features=768, out_features=768, bias=True)\n",
              "            (value): Linear(in_features=768, out_features=768, bias=True)\n",
              "            (dropout): Dropout(p=0.1, inplace=False)\n",
              "          )\n",
              "          (output): BertSelfOutput(\n",
              "            (dense): Linear(in_features=768, out_features=768, bias=True)\n",
              "            (LayerNorm): LayerNorm((768,), eps=1e-12, elementwise_affine=True)\n",
              "            (dropout): Dropout(p=0.1, inplace=False)\n",
              "          )\n",
              "        )\n",
              "        (intermediate): BertIntermediate(\n",
              "          (dense): Linear(in_features=768, out_features=3072, bias=True)\n",
              "        )\n",
              "        (output): BertOutput(\n",
              "          (dense): Linear(in_features=3072, out_features=768, bias=True)\n",
              "          (LayerNorm): LayerNorm((768,), eps=1e-12, elementwise_affine=True)\n",
              "          (dropout): Dropout(p=0.1, inplace=False)\n",
              "        )\n",
              "      )\n",
              "      (8): BertLayer(\n",
              "        (attention): BertAttention(\n",
              "          (self): BertSelfAttention(\n",
              "            (query): Linear(in_features=768, out_features=768, bias=True)\n",
              "            (key): Linear(in_features=768, out_features=768, bias=True)\n",
              "            (value): Linear(in_features=768, out_features=768, bias=True)\n",
              "            (dropout): Dropout(p=0.1, inplace=False)\n",
              "          )\n",
              "          (output): BertSelfOutput(\n",
              "            (dense): Linear(in_features=768, out_features=768, bias=True)\n",
              "            (LayerNorm): LayerNorm((768,), eps=1e-12, elementwise_affine=True)\n",
              "            (dropout): Dropout(p=0.1, inplace=False)\n",
              "          )\n",
              "        )\n",
              "        (intermediate): BertIntermediate(\n",
              "          (dense): Linear(in_features=768, out_features=3072, bias=True)\n",
              "        )\n",
              "        (output): BertOutput(\n",
              "          (dense): Linear(in_features=3072, out_features=768, bias=True)\n",
              "          (LayerNorm): LayerNorm((768,), eps=1e-12, elementwise_affine=True)\n",
              "          (dropout): Dropout(p=0.1, inplace=False)\n",
              "        )\n",
              "      )\n",
              "      (9): BertLayer(\n",
              "        (attention): BertAttention(\n",
              "          (self): BertSelfAttention(\n",
              "            (query): Linear(in_features=768, out_features=768, bias=True)\n",
              "            (key): Linear(in_features=768, out_features=768, bias=True)\n",
              "            (value): Linear(in_features=768, out_features=768, bias=True)\n",
              "            (dropout): Dropout(p=0.1, inplace=False)\n",
              "          )\n",
              "          (output): BertSelfOutput(\n",
              "            (dense): Linear(in_features=768, out_features=768, bias=True)\n",
              "            (LayerNorm): LayerNorm((768,), eps=1e-12, elementwise_affine=True)\n",
              "            (dropout): Dropout(p=0.1, inplace=False)\n",
              "          )\n",
              "        )\n",
              "        (intermediate): BertIntermediate(\n",
              "          (dense): Linear(in_features=768, out_features=3072, bias=True)\n",
              "        )\n",
              "        (output): BertOutput(\n",
              "          (dense): Linear(in_features=3072, out_features=768, bias=True)\n",
              "          (LayerNorm): LayerNorm((768,), eps=1e-12, elementwise_affine=True)\n",
              "          (dropout): Dropout(p=0.1, inplace=False)\n",
              "        )\n",
              "      )\n",
              "      (10): BertLayer(\n",
              "        (attention): BertAttention(\n",
              "          (self): BertSelfAttention(\n",
              "            (query): Linear(in_features=768, out_features=768, bias=True)\n",
              "            (key): Linear(in_features=768, out_features=768, bias=True)\n",
              "            (value): Linear(in_features=768, out_features=768, bias=True)\n",
              "            (dropout): Dropout(p=0.1, inplace=False)\n",
              "          )\n",
              "          (output): BertSelfOutput(\n",
              "            (dense): Linear(in_features=768, out_features=768, bias=True)\n",
              "            (LayerNorm): LayerNorm((768,), eps=1e-12, elementwise_affine=True)\n",
              "            (dropout): Dropout(p=0.1, inplace=False)\n",
              "          )\n",
              "        )\n",
              "        (intermediate): BertIntermediate(\n",
              "          (dense): Linear(in_features=768, out_features=3072, bias=True)\n",
              "        )\n",
              "        (output): BertOutput(\n",
              "          (dense): Linear(in_features=3072, out_features=768, bias=True)\n",
              "          (LayerNorm): LayerNorm((768,), eps=1e-12, elementwise_affine=True)\n",
              "          (dropout): Dropout(p=0.1, inplace=False)\n",
              "        )\n",
              "      )\n",
              "      (11): BertLayer(\n",
              "        (attention): BertAttention(\n",
              "          (self): BertSelfAttention(\n",
              "            (query): Linear(in_features=768, out_features=768, bias=True)\n",
              "            (key): Linear(in_features=768, out_features=768, bias=True)\n",
              "            (value): Linear(in_features=768, out_features=768, bias=True)\n",
              "            (dropout): Dropout(p=0.1, inplace=False)\n",
              "          )\n",
              "          (output): BertSelfOutput(\n",
              "            (dense): Linear(in_features=768, out_features=768, bias=True)\n",
              "            (LayerNorm): LayerNorm((768,), eps=1e-12, elementwise_affine=True)\n",
              "            (dropout): Dropout(p=0.1, inplace=False)\n",
              "          )\n",
              "        )\n",
              "        (intermediate): BertIntermediate(\n",
              "          (dense): Linear(in_features=768, out_features=3072, bias=True)\n",
              "        )\n",
              "        (output): BertOutput(\n",
              "          (dense): Linear(in_features=3072, out_features=768, bias=True)\n",
              "          (LayerNorm): LayerNorm((768,), eps=1e-12, elementwise_affine=True)\n",
              "          (dropout): Dropout(p=0.1, inplace=False)\n",
              "        )\n",
              "      )\n",
              "    )\n",
              "  )\n",
              "  (pooler): BertPooler(\n",
              "    (dense): Linear(in_features=768, out_features=768, bias=True)\n",
              "    (activation): Tanh()\n",
              "  )\n",
              ")"
            ]
          },
          "metadata": {
            "tags": []
          },
          "execution_count": 10
        }
      ]
    },
    {
      "cell_type": "code",
      "metadata": {
        "execution": {
          "iopub.execute_input": "2021-03-14T14:51:28.812282Z",
          "iopub.status.busy": "2021-03-14T14:51:28.802159Z",
          "iopub.status.idle": "2021-03-14T14:52:48.849858Z",
          "shell.execute_reply": "2021-03-14T14:52:48.847763Z"
        },
        "papermill": {
          "duration": 81.393062,
          "end_time": "2021-03-14T14:52:48.849985",
          "exception": false,
          "start_time": "2021-03-14T14:51:27.456923",
          "status": "completed"
        },
        "tags": [],
        "id": "nKHrXtZRzdqh",
        "outputId": "58e8657b-a483-47e5-83f9-861ed7eeb7b9"
      },
      "source": [
        "bert_token_indices = set()\n",
        "bert_token_indices_to_indices = dict()\n",
        "indices_to_token = dict()\n",
        "\n",
        "for x in df['tokens']:\n",
        "    bert_token_indices = bert_token_indices.union(set(x))\n",
        "\n",
        "idx = 0\n",
        "for x in tqdm(bert_token_indices):\n",
        "    bert_token_indices_to_indices[x] = idx\n",
        "    indices_to_token[idx] = tokenizer.convert_ids_to_tokens([x])\n",
        "    idx += 1"
      ],
      "execution_count": null,
      "outputs": [
        {
          "output_type": "stream",
          "text": [
            "100%|██████████| 28493/28493 [00:00<00:00, 243310.55it/s]\n"
          ],
          "name": "stderr"
        }
      ]
    },
    {
      "cell_type": "code",
      "metadata": {
        "execution": {
          "iopub.execute_input": "2021-03-14T14:52:51.501226Z",
          "iopub.status.busy": "2021-03-14T14:52:51.500541Z",
          "iopub.status.idle": "2021-03-14T14:57:41.595753Z",
          "shell.execute_reply": "2021-03-14T14:57:41.595244Z"
        },
        "papermill": {
          "duration": 291.405536,
          "end_time": "2021-03-14T14:57:41.595893",
          "exception": false,
          "start_time": "2021-03-14T14:52:50.190357",
          "status": "completed"
        },
        "tags": [],
        "id": "O-VqxpIczdqk",
        "outputId": "08d424a5-99a6-4583-f39f-b5b0f2bf94a2"
      },
      "source": [
        "num_words = len(bert_token_indices)\n",
        "embedding_matrix = np.zeros((num_words, 768))\n",
        "with torch.no_grad():\n",
        "    for bert_idx in tqdm(bert_token_indices):\n",
        "        idx = bert_token_indices_to_indices[bert_idx]\n",
        "        embedding_matrix[idx] = bert(torch.tensor([[bert_idx]]).to(device),\n",
        "                                     torch.tensor([[1]]).to(device))[2][0][0][0].cpu().numpy()"
      ],
      "execution_count": null,
      "outputs": [
        {
          "output_type": "stream",
          "text": [
            "100%|██████████| 28493/28493 [04:50<00:00, 98.22it/s] \n"
          ],
          "name": "stderr"
        }
      ]
    },
    {
      "cell_type": "code",
      "metadata": {
        "execution": {
          "iopub.execute_input": "2021-03-14T14:57:47.872406Z",
          "iopub.status.busy": "2021-03-14T14:57:47.871369Z",
          "iopub.status.idle": "2021-03-14T14:57:47.874910Z",
          "shell.execute_reply": "2021-03-14T14:57:47.875318Z"
        },
        "papermill": {
          "duration": 4.174304,
          "end_time": "2021-03-14T14:57:47.875501",
          "exception": false,
          "start_time": "2021-03-14T14:57:43.701197",
          "status": "completed"
        },
        "tags": [],
        "id": "6aeydCoQzdqm",
        "outputId": "a15a8c0d-b6f4-4725-d21c-f803948d45c3"
      },
      "source": [
        "del tokenizer\n",
        "del bert\n",
        "del config\n",
        "gc.collect()"
      ],
      "execution_count": null,
      "outputs": [
        {
          "output_type": "execute_result",
          "data": {
            "text/plain": [
              "72"
            ]
          },
          "metadata": {
            "tags": []
          },
          "execution_count": 13
        }
      ]
    },
    {
      "cell_type": "code",
      "metadata": {
        "execution": {
          "iopub.execute_input": "2021-03-14T14:57:52.273410Z",
          "iopub.status.busy": "2021-03-14T14:57:52.262736Z",
          "iopub.status.idle": "2021-03-14T14:58:53.336617Z",
          "shell.execute_reply": "2021-03-14T14:58:53.337057Z"
        },
        "papermill": {
          "duration": 63.191875,
          "end_time": "2021-03-14T14:58:53.337207",
          "exception": false,
          "start_time": "2021-03-14T14:57:50.145332",
          "status": "completed"
        },
        "tags": [],
        "id": "CsvH9iFMzdqo",
        "outputId": "5d9d828c-e960-46e5-c7ad-3a46fe272ffd"
      },
      "source": [
        "BATCH_SIZE = 16\n",
        "n_batches = df.shape[0] // BATCH_SIZE\n",
        "\n",
        "tokens = [[bert_token_indices_to_indices[x] for x in y] for y in df['tokens'].tolist()]\n",
        "\n",
        "train_dataset = TensorDataset(torch.tensor(np.matrix(tokens)),\n",
        "                              torch.tensor(df['toxic?'].astype(int).values.tolist()),\n",
        "                              torch.tensor(df['masks'].tolist()))\n",
        "train_dataloader = DataLoader(train_dataset, batch_size=BATCH_SIZE, shuffle=True)\n",
        "\n",
        "del tokens\n",
        "del train_dataset\n",
        "gc.collect()"
      ],
      "execution_count": null,
      "outputs": [
        {
          "output_type": "execute_result",
          "data": {
            "text/plain": [
              "0"
            ]
          },
          "metadata": {
            "tags": []
          },
          "execution_count": 14
        }
      ]
    },
    {
      "cell_type": "code",
      "metadata": {
        "execution": {
          "iopub.execute_input": "2021-03-14T14:58:57.648902Z",
          "iopub.status.busy": "2021-03-14T14:58:57.647975Z",
          "iopub.status.idle": "2021-03-14T14:58:57.813908Z",
          "shell.execute_reply": "2021-03-14T14:58:57.813376Z"
        },
        "papermill": {
          "duration": 2.279697,
          "end_time": "2021-03-14T14:58:57.814034",
          "exception": false,
          "start_time": "2021-03-14T14:58:55.534337",
          "status": "completed"
        },
        "tags": [],
        "id": "x6OgAGXWzdqt"
      },
      "source": [
        "class ClassifierModel(nn.Module):\n",
        "    \n",
        "    def __init__(self):\n",
        "        super().__init__()\n",
        "        self.embedding = nn.Embedding.from_pretrained(\n",
        "            embeddings=torch.tensor(embedding_matrix),\n",
        "            freeze=True)\n",
        "        \n",
        "        self.gru1 = nn.GRU(\n",
        "            input_size=768,\n",
        "            hidden_size=32,\n",
        "            num_layers=1,\n",
        "            batch_first=True,\n",
        "            bidirectional=True)\n",
        "        self.gru2 = nn.GRU(\n",
        "            input_size=64,\n",
        "            hidden_size=1,\n",
        "            num_layers=1,\n",
        "            batch_first=True,\n",
        "            bidirectional=True)\n",
        "        \n",
        "        self.linear1 = nn.Linear(in_features=768, out_features=64)\n",
        "        self.linear2 = nn.Linear(in_features=64, out_features=1)\n",
        "        \n",
        "    def forward(self, input_ids, pad_masks, labels=None):\n",
        "        \n",
        "        w = self.embedding(input_ids)\n",
        "        h = nn.Tanh()(self.linear1(w))\n",
        "        p = nn.Sigmoid()(self.linear2(h)).squeeze(dim=2)\n",
        "        \n",
        "        g1 = nn.LeakyReLU(0.1)(self.gru1(w)[0])\n",
        "        g2 = self.gru2(g1)[0]\n",
        "        a = nn.Sigmoid()(torch.sum(g2, dim=-1))\n",
        "        \n",
        "        masks = 1 - pad_masks\n",
        "        a = a * masks\n",
        "        A = torch.div(a, torch.tensor(torch.sum(a, dim=1)).reshape((-1, 1)))\n",
        "        \n",
        "        Y = torch.sum(A * p, dim=1)\n",
        "        \n",
        "        loss = 0\n",
        "        if labels is not None:\n",
        "            loss = (\n",
        "                nn.BCELoss()(Y, labels.double()) +\n",
        "                0.01 * (nn.MSELoss()(torch.max(a, dim=1).values, labels.double()) +\n",
        "                torch.mean((torch.min(torch.where(masks == 1, a, torch.ones_like(a)), dim=1).values ** 2)))\n",
        "            )\n",
        "        return loss, Y, p, a\n",
        "\n",
        "device = torch.device(\"cuda\" if torch.cuda.is_available() else \"cpu\")\n",
        "model = ClassifierModel().double().to(device)"
      ],
      "execution_count": null,
      "outputs": []
    },
    {
      "cell_type": "code",
      "metadata": {
        "execution": {
          "iopub.execute_input": "2021-03-14T14:59:06.710493Z",
          "iopub.status.busy": "2021-03-14T14:59:06.709702Z",
          "iopub.status.idle": "2021-03-14T14:59:06.712086Z",
          "shell.execute_reply": "2021-03-14T14:59:06.712600Z"
        },
        "papermill": {
          "duration": 2.794669,
          "end_time": "2021-03-14T14:59:06.712746",
          "exception": false,
          "start_time": "2021-03-14T14:59:03.918077",
          "status": "completed"
        },
        "tags": [],
        "id": "W_Wq2qmOzdq4"
      },
      "source": [
        "optimizer = AdamW(model.parameters(), lr=3e-6)\n",
        "if device.type == 'gpu':\n",
        "    torch.cuda.empty_cache()"
      ],
      "execution_count": null,
      "outputs": []
    },
    {
      "cell_type": "code",
      "metadata": {
        "execution": {
          "iopub.execute_input": "2021-03-14T14:59:10.777929Z",
          "iopub.status.busy": "2021-03-14T14:59:10.777334Z",
          "iopub.status.idle": "2021-03-14T16:32:23.445050Z",
          "shell.execute_reply": "2021-03-14T16:32:23.441095Z"
        },
        "papermill": {
          "duration": 5594.724408,
          "end_time": "2021-03-14T16:32:23.445187",
          "exception": false,
          "start_time": "2021-03-14T14:59:08.720779",
          "status": "completed"
        },
        "tags": [],
        "id": "hc1Lh0Nvzdq7",
        "outputId": "9ca848a7-4a62-49a1-bb32-21181d614d26"
      },
      "source": [
        "EPOCHS = 5\n",
        "batch_losses = []\n",
        "\n",
        "for epoch_num in range(EPOCHS):\n",
        "    model.train()\n",
        "    train_loss = 0\n",
        "    for step_num, batch_data in enumerate(tqdm(train_dataloader)):\n",
        "        token_ids, labels, special_tokens = tuple(t.to(device) for t in batch_data)\n",
        "\n",
        "        loss, _, _, _ = model(\n",
        "            input_ids=token_ids,\n",
        "            labels=labels,\n",
        "            pad_masks=special_tokens)\n",
        "\n",
        "        train_loss += loss.item()\n",
        "        \n",
        "        model.zero_grad()\n",
        "        loss.backward()        \n",
        "\n",
        "        clip_grad_norm_(parameters=model.parameters(), max_norm=1.0)\n",
        "        optimizer.step()\n",
        "        batch_losses.append(train_loss / (step_num + 1))"
      ],
      "execution_count": null,
      "outputs": [
        {
          "output_type": "stream",
          "text": [
            "  0%|          | 0/17262 [00:00<?, ?it/s]/opt/conda/lib/python3.7/site-packages/ipykernel_launcher.py:37: UserWarning: To copy construct from a tensor, it is recommended to use sourceTensor.clone().detach() or sourceTensor.clone().detach().requires_grad_(True), rather than torch.tensor(sourceTensor).\n",
            "100%|██████████| 17262/17262 [18:32<00:00, 15.52it/s]\n",
            "100%|██████████| 17262/17262 [18:30<00:00, 15.54it/s]\n",
            "100%|██████████| 17262/17262 [18:50<00:00, 15.27it/s]\n",
            "100%|██████████| 17262/17262 [18:34<00:00, 15.49it/s]\n",
            "100%|██████████| 17262/17262 [18:31<00:00, 15.53it/s]\n"
          ],
          "name": "stderr"
        }
      ]
    },
    {
      "cell_type": "code",
      "metadata": {
        "execution": {
          "iopub.execute_input": "2021-03-14T16:32:51.232802Z",
          "iopub.status.busy": "2021-03-14T16:32:51.232259Z",
          "iopub.status.idle": "2021-03-14T16:32:51.945718Z",
          "shell.execute_reply": "2021-03-14T16:32:51.945132Z"
        },
        "papermill": {
          "duration": 14.203524,
          "end_time": "2021-03-14T16:32:51.945850",
          "exception": false,
          "start_time": "2021-03-14T16:32:37.742326",
          "status": "completed"
        },
        "tags": [],
        "id": "aplNUAZCzdrI"
      },
      "source": [
        "torch.save(model.state_dict(), 'model')"
      ],
      "execution_count": null,
      "outputs": []
    },
    {
      "cell_type": "code",
      "metadata": {
        "execution": {
          "iopub.execute_input": "2021-03-14T16:33:19.279253Z",
          "iopub.status.busy": "2021-03-14T16:33:19.278393Z",
          "iopub.status.idle": "2021-03-14T16:33:19.429819Z",
          "shell.execute_reply": "2021-03-14T16:33:19.430230Z"
        },
        "papermill": {
          "duration": 13.557023,
          "end_time": "2021-03-14T16:33:19.430379",
          "exception": false,
          "start_time": "2021-03-14T16:33:05.873356",
          "status": "completed"
        },
        "tags": [],
        "id": "6H73qFvbzdrN",
        "outputId": "356b8c31-a3d6-407a-9367-3b88c2bee56f"
      },
      "source": [
        "plt.plot(batch_losses)"
      ],
      "execution_count": null,
      "outputs": [
        {
          "output_type": "execute_result",
          "data": {
            "text/plain": [
              "[<matplotlib.lines.Line2D at 0x7f28b0c636d0>]"
            ]
          },
          "metadata": {
            "tags": []
          },
          "execution_count": 20
        },
        {
          "output_type": "display_data",
          "data": {
            "image/png": "[encoded data removed]",
            "text/plain": [
              "<Figure size 432x288 with 1 Axes>"
            ]
          },
          "metadata": {
            "tags": [],
            "needs_background": "light"
          }
        }
      ]
    },
    {
      "cell_type": "code",
      "metadata": {
        "execution": {
          "iopub.execute_input": "2021-03-14T16:33:47.029649Z",
          "iopub.status.busy": "2021-03-14T16:33:47.028914Z",
          "iopub.status.idle": "2021-03-14T16:33:47.032413Z",
          "shell.execute_reply": "2021-03-14T16:33:47.031793Z"
        },
        "papermill": {
          "duration": 13.315748,
          "end_time": "2021-03-14T16:33:47.032562",
          "exception": false,
          "start_time": "2021-03-14T16:33:33.716814",
          "status": "completed"
        },
        "tags": [],
        "id": "aCfVNWqAzdrO"
      },
      "source": [
        "with open('loss.pkl', 'wb') as fh:\n",
        "   pickle.dump(batch_losses, fh)"
      ],
      "execution_count": null,
      "outputs": []
    },
    {
      "cell_type": "code",
      "metadata": {
        "execution": {
          "iopub.execute_input": "2021-03-14T16:34:16.782034Z",
          "iopub.status.busy": "2021-03-14T16:34:16.781142Z",
          "iopub.status.idle": "2021-03-14T16:34:16.785059Z",
          "shell.execute_reply": "2021-03-14T16:34:16.784620Z"
        },
        "papermill": {
          "duration": 16.253315,
          "end_time": "2021-03-14T16:34:16.785178",
          "exception": false,
          "start_time": "2021-03-14T16:34:00.531863",
          "status": "completed"
        },
        "tags": [],
        "id": "xmnclJeKzdrP",
        "outputId": "9e4b47ac-0beb-4b16-a3ae-5d9406cc5744"
      },
      "source": [
        "del batch_losses\n",
        "gc.collect()"
      ],
      "execution_count": null,
      "outputs": [
        {
          "output_type": "execute_result",
          "data": {
            "text/plain": [
              "44"
            ]
          },
          "metadata": {
            "tags": []
          },
          "execution_count": 22
        }
      ]
    },
    {
      "cell_type": "code",
      "metadata": {
        "execution": {
          "iopub.execute_input": "2021-03-14T16:34:44.156600Z",
          "iopub.status.busy": "2021-03-14T16:34:44.155714Z",
          "iopub.status.idle": "2021-03-14T16:34:56.210128Z",
          "shell.execute_reply": "2021-03-14T16:34:56.209704Z"
        },
        "papermill": {
          "duration": 26.063152,
          "end_time": "2021-03-14T16:34:56.210253",
          "exception": false,
          "start_time": "2021-03-14T16:34:30.147101",
          "status": "completed"
        },
        "tags": [],
        "id": "GsAMUZxqzdrR",
        "outputId": "ca09ea47-ce7c-4c38-a5ae-b0091c1fe260"
      },
      "source": [
        "df = df[df['toxic?'] == 1]\n",
        "\n",
        "tokens = [[bert_token_indices_to_indices[x] for x in y] for y in df['tokens'].tolist()]\n",
        "\n",
        "train_dataset = TensorDataset(torch.tensor(np.matrix(tokens)),\n",
        "                              torch.tensor(df['toxic?'].astype(int).values.tolist()),\n",
        "                              torch.tensor(df['masks'].tolist()))\n",
        "train_sampler = SequentialSampler(train_dataset)\n",
        "train_dataloader = DataLoader(train_dataset, sampler=train_sampler, batch_size=BATCH_SIZE)\n",
        "\n",
        "del tokens\n",
        "del df\n",
        "del train_dataset\n",
        "del train_sampler\n",
        "del bert_token_indices\n",
        "del bert_token_indices_to_indices\n",
        "gc.collect()"
      ],
      "execution_count": null,
      "outputs": [
        {
          "output_type": "execute_result",
          "data": {
            "text/plain": [
              "0"
            ]
          },
          "metadata": {
            "tags": []
          },
          "execution_count": 23
        }
      ]
    },
    {
      "cell_type": "code",
      "metadata": {
        "execution": {
          "iopub.execute_input": "2021-03-14T16:35:24.004151Z",
          "iopub.status.busy": "2021-03-14T16:35:24.003300Z",
          "iopub.status.idle": "2021-03-14T16:37:01.115655Z",
          "shell.execute_reply": "2021-03-14T16:37:01.114763Z"
        },
        "papermill": {
          "duration": 111.367627,
          "end_time": "2021-03-14T16:37:01.115790",
          "exception": false,
          "start_time": "2021-03-14T16:35:09.748163",
          "status": "completed"
        },
        "tags": [],
        "id": "irW2uYFDzdrX",
        "outputId": "2c28dc45-f8c2-4215-ed56-c2f1a145ea21"
      },
      "source": [
        "test_tokens = []\n",
        "test_preds = []\n",
        "test_scores = []\n",
        "test_Y = []\n",
        "test_labels = []\n",
        "\n",
        "model.eval()\n",
        "with torch.no_grad():\n",
        "    for step_num, batch_data in enumerate(tqdm(train_dataloader)):\n",
        "        token_ids, labels, special_tokens = tuple(t.to(device) for t in batch_data)\n",
        "        _, Y, preds, scores = model(input_ids=token_ids, pad_masks=special_tokens)\n",
        "        for sample_tokens, sample_Y, sample_preds, sample_scores, sample_label, sample_special_tokens in zip(\n",
        "            token_ids.tolist(),\n",
        "            Y.tolist(),\n",
        "            preds.tolist(),\n",
        "            scores.tolist(),\n",
        "            labels.tolist(),\n",
        "            special_tokens):\n",
        "            \n",
        "                l = 512 - sample_special_tokens.sum()\n",
        "                test_tokens.append(sample_tokens[:l])\n",
        "                test_Y.append(sample_Y)\n",
        "                test_preds.append(sample_preds[:l])\n",
        "                test_scores.append(sample_scores[:l])\n",
        "                test_labels.append(sample_label)"
      ],
      "execution_count": null,
      "outputs": [
        {
          "output_type": "stream",
          "text": [
            "  0%|          | 0/3290 [00:00<?, ?it/s]/opt/conda/lib/python3.7/site-packages/ipykernel_launcher.py:37: UserWarning: To copy construct from a tensor, it is recommended to use sourceTensor.clone().detach() or sourceTensor.clone().detach().requires_grad_(True), rather than torch.tensor(sourceTensor).\n",
            "100%|██████████| 3290/3290 [01:37<00:00, 33.88it/s]\n"
          ],
          "name": "stderr"
        }
      ]
    },
    {
      "cell_type": "code",
      "metadata": {
        "execution": {
          "iopub.execute_input": "2021-03-14T16:37:31.531664Z",
          "iopub.status.busy": "2021-03-14T16:37:31.530842Z",
          "iopub.status.idle": "2021-03-14T16:37:31.534220Z",
          "shell.execute_reply": "2021-03-14T16:37:31.534609Z"
        },
        "papermill": {
          "duration": 16.640993,
          "end_time": "2021-03-14T16:37:31.534765",
          "exception": false,
          "start_time": "2021-03-14T16:37:14.893772",
          "status": "completed"
        },
        "tags": [],
        "id": "H69bC2qJzdrg",
        "outputId": "3a5cd7a4-30e7-4cfc-ab90-ee932ea0a7d7"
      },
      "source": [
        "del model\n",
        "del train_dataloader\n",
        "gc.collect()"
      ],
      "execution_count": null,
      "outputs": [
        {
          "output_type": "execute_result",
          "data": {
            "text/plain": [
              "58"
            ]
          },
          "metadata": {
            "tags": []
          },
          "execution_count": 25
        }
      ]
    },
    {
      "cell_type": "code",
      "metadata": {
        "execution": {
          "iopub.execute_input": "2021-03-14T16:38:00.491990Z",
          "iopub.status.busy": "2021-03-14T16:38:00.455968Z",
          "iopub.status.idle": "2021-03-14T16:38:01.308427Z",
          "shell.execute_reply": "2021-03-14T16:38:01.309002Z"
        },
        "papermill": {
          "duration": 15.757984,
          "end_time": "2021-03-14T16:38:01.309189",
          "exception": false,
          "start_time": "2021-03-14T16:37:45.551205",
          "status": "completed"
        },
        "tags": [],
        "id": "3SuD-GGQzdrh",
        "outputId": "d3834530-cd89-41e5-ed25-b3895f56ea82"
      },
      "source": [
        "df = pd.DataFrame(\n",
        "    {\n",
        "        'tokens': [[indices_to_token[x][0] for x in y] for y in test_tokens],\n",
        "        'Y': test_Y,\n",
        "        'scores': test_scores,\n",
        "        'preds': test_preds,\n",
        "        'label': test_labels\n",
        "    }\n",
        ")\n",
        "df"
      ],
      "execution_count": null,
      "outputs": [
        {
          "output_type": "execute_result",
          "data": {
            "text/html": [
              "<div>\n",
              "<style scoped>\n",
              "    .dataframe tbody tr th:only-of-type {\n",
              "        vertical-align: middle;\n",
              "    }\n",
              "\n",
              "    .dataframe tbody tr th {\n",
              "        vertical-align: top;\n",
              "    }\n",
              "\n",
              "    .dataframe thead th {\n",
              "        text-align: right;\n",
              "    }\n",
              "</style>\n",
              "<table border=\"1\" class=\"dataframe\">\n",
              "  <thead>\n",
              "    <tr style=\"text-align: right;\">\n",
              "      <th></th>\n",
              "      <th>tokens</th>\n",
              "      <th>Y</th>\n",
              "      <th>scores</th>\n",
              "      <th>preds</th>\n",
              "      <th>label</th>\n",
              "    </tr>\n",
              "  </thead>\n",
              "  <tbody>\n",
              "    <tr>\n",
              "      <th>0</th>\n",
              "      <td>[cock, ##su, ##cker, before, you, piss, around...</td>\n",
              "      <td>0.534244</td>\n",
              "      <td>[0.7692446999392344, 0.7547650090924806, 0.755...</td>\n",
              "      <td>[0.9980199199041843, 0.1607601419306211, 0.932...</td>\n",
              "      <td>1</td>\n",
              "    </tr>\n",
              "    <tr>\n",
              "      <th>1</th>\n",
              "      <td>[hey, ., ., ., what, is, it, ., ., @, |, talk,...</td>\n",
              "      <td>0.115351</td>\n",
              "      <td>[0.28525191277353157, 0.2882144006299423, 0.28...</td>\n",
              "      <td>[0.8591586487311573, 0.00022262220416152139, 0...</td>\n",
              "      <td>1</td>\n",
              "    </tr>\n",
              "    <tr>\n",
              "      <th>2</th>\n",
              "      <td>[bye, !, don, ', t, look, ,, come, or, think, ...</td>\n",
              "      <td>0.258062</td>\n",
              "      <td>[0.39329042137003545, 0.3742630414962807, 0.35...</td>\n",
              "      <td>[0.06888390575559493, 0.896935948697345, 0.750...</td>\n",
              "      <td>1</td>\n",
              "    </tr>\n",
              "    <tr>\n",
              "      <th>3</th>\n",
              "      <td>[you, are, gay, or, anti, ##se, ##mm, ##itia, ...</td>\n",
              "      <td>0.274985</td>\n",
              "      <td>[0.5547501019038182, 0.5123795762775145, 0.451...</td>\n",
              "      <td>[0.9666784776679549, 0.0012887115024622074, 0....</td>\n",
              "      <td>1</td>\n",
              "    </tr>\n",
              "    <tr>\n",
              "      <th>4</th>\n",
              "      <td>[fuck, your, filthy, mother, in, the, ass, ,, ...</td>\n",
              "      <td>0.631085</td>\n",
              "      <td>[0.860464287606661, 0.8660522906890008, 0.8671...</td>\n",
              "      <td>[0.9999683047774107, 0.8822553014860401, 0.995...</td>\n",
              "      <td>1</td>\n",
              "    </tr>\n",
              "    <tr>\n",
              "      <th>...</th>\n",
              "      <td>...</td>\n",
              "      <td>...</td>\n",
              "      <td>...</td>\n",
              "      <td>...</td>\n",
              "      <td>...</td>\n",
              "    </tr>\n",
              "    <tr>\n",
              "      <th>52635</th>\n",
              "      <td>[@, user, @, user, nothing, about, trump, is, ...</td>\n",
              "      <td>0.286324</td>\n",
              "      <td>[0.8600023875093349, 0.8619748730202039, 0.863...</td>\n",
              "      <td>[0.9981626629396194, 0.026111485995796747, 0.9...</td>\n",
              "      <td>1</td>\n",
              "    </tr>\n",
              "    <tr>\n",
              "      <th>52636</th>\n",
              "      <td>[@, user, oh, shit, ., that, sounds, like, a, ...</td>\n",
              "      <td>0.388210</td>\n",
              "      <td>[0.8756520764060685, 0.8762362685538518, 0.876...</td>\n",
              "      <td>[0.9981626629396194, 0.026111485995796747, 0.8...</td>\n",
              "      <td>1</td>\n",
              "    </tr>\n",
              "    <tr>\n",
              "      <th>52637</th>\n",
              "      <td>[@, user, @, user, i, gotta, say, that, shit, ...</td>\n",
              "      <td>0.264048</td>\n",
              "      <td>[0.8410594094836469, 0.8419167819725226, 0.841...</td>\n",
              "      <td>[0.9981626629396194, 0.026111485995796747, 0.9...</td>\n",
              "      <td>1</td>\n",
              "    </tr>\n",
              "    <tr>\n",
              "      <th>52638</th>\n",
              "      <td>[@, user, trump, does, everything, he, can, to...</td>\n",
              "      <td>0.152094</td>\n",
              "      <td>[0.7820550636826707, 0.7871733810950804, 0.775...</td>\n",
              "      <td>[0.9981626629396194, 0.026111485995796747, 0.3...</td>\n",
              "      <td>1</td>\n",
              "    </tr>\n",
              "    <tr>\n",
              "      <th>52639</th>\n",
              "      <td>[i, was, gonna, t, ##wee, ##t, some, shit, lik...</td>\n",
              "      <td>0.417663</td>\n",
              "      <td>[0.7553022928844684, 0.7586036919289997, 0.775...</td>\n",
              "      <td>[0.008997308648915446, 0.00027517930534264333,...</td>\n",
              "      <td>1</td>\n",
              "    </tr>\n",
              "  </tbody>\n",
              "</table>\n",
              "<p>52640 rows × 5 columns</p>\n",
              "</div>"
            ],
            "text/plain": [
              "                                                  tokens         Y  \\\n",
              "0      [cock, ##su, ##cker, before, you, piss, around...  0.534244   \n",
              "1      [hey, ., ., ., what, is, it, ., ., @, |, talk,...  0.115351   \n",
              "2      [bye, !, don, ', t, look, ,, come, or, think, ...  0.258062   \n",
              "3      [you, are, gay, or, anti, ##se, ##mm, ##itia, ...  0.274985   \n",
              "4      [fuck, your, filthy, mother, in, the, ass, ,, ...  0.631085   \n",
              "...                                                  ...       ...   \n",
              "52635  [@, user, @, user, nothing, about, trump, is, ...  0.286324   \n",
              "52636  [@, user, oh, shit, ., that, sounds, like, a, ...  0.388210   \n",
              "52637  [@, user, @, user, i, gotta, say, that, shit, ...  0.264048   \n",
              "52638  [@, user, trump, does, everything, he, can, to...  0.152094   \n",
              "52639  [i, was, gonna, t, ##wee, ##t, some, shit, lik...  0.417663   \n",
              "\n",
              "                                                  scores  \\\n",
              "0      [0.7692446999392344, 0.7547650090924806, 0.755...   \n",
              "1      [0.28525191277353157, 0.2882144006299423, 0.28...   \n",
              "2      [0.39329042137003545, 0.3742630414962807, 0.35...   \n",
              "3      [0.5547501019038182, 0.5123795762775145, 0.451...   \n",
              "4      [0.860464287606661, 0.8660522906890008, 0.8671...   \n",
              "...                                                  ...   \n",
              "52635  [0.8600023875093349, 0.8619748730202039, 0.863...   \n",
              "52636  [0.8756520764060685, 0.8762362685538518, 0.876...   \n",
              "52637  [0.8410594094836469, 0.8419167819725226, 0.841...   \n",
              "52638  [0.7820550636826707, 0.7871733810950804, 0.775...   \n",
              "52639  [0.7553022928844684, 0.7586036919289997, 0.775...   \n",
              "\n",
              "                                                   preds  label  \n",
              "0      [0.9980199199041843, 0.1607601419306211, 0.932...      1  \n",
              "1      [0.8591586487311573, 0.00022262220416152139, 0...      1  \n",
              "2      [0.06888390575559493, 0.896935948697345, 0.750...      1  \n",
              "3      [0.9666784776679549, 0.0012887115024622074, 0....      1  \n",
              "4      [0.9999683047774107, 0.8822553014860401, 0.995...      1  \n",
              "...                                                  ...    ...  \n",
              "52635  [0.9981626629396194, 0.026111485995796747, 0.9...      1  \n",
              "52636  [0.9981626629396194, 0.026111485995796747, 0.8...      1  \n",
              "52637  [0.9981626629396194, 0.026111485995796747, 0.9...      1  \n",
              "52638  [0.9981626629396194, 0.026111485995796747, 0.3...      1  \n",
              "52639  [0.008997308648915446, 0.00027517930534264333,...      1  \n",
              "\n",
              "[52640 rows x 5 columns]"
            ]
          },
          "metadata": {
            "tags": []
          },
          "execution_count": 26
        }
      ]
    },
    {
      "cell_type": "code",
      "metadata": {
        "execution": {
          "iopub.execute_input": "2021-03-14T16:38:30.721443Z",
          "iopub.status.busy": "2021-03-14T16:38:30.720383Z",
          "iopub.status.idle": "2021-03-14T16:38:30.759075Z",
          "shell.execute_reply": "2021-03-14T16:38:30.758047Z"
        },
        "papermill": {
          "duration": 15.196216,
          "end_time": "2021-03-14T16:38:30.759220",
          "exception": false,
          "start_time": "2021-03-14T16:38:15.563004",
          "status": "completed"
        },
        "tags": [],
        "id": "X-_h8vzWzdri"
      },
      "source": [
        "df.to_pickle('df_results.pkl')"
      ],
      "execution_count": null,
      "outputs": []
    },
    {
      "cell_type": "code",
      "metadata": {
        "execution": {
          "iopub.execute_input": "2021-03-14T16:38:58.572870Z",
          "iopub.status.busy": "2021-03-14T16:38:58.572063Z",
          "iopub.status.idle": "2021-03-14T16:38:58.849414Z",
          "shell.execute_reply": "2021-03-14T16:38:58.848917Z"
        },
        "papermill": {
          "duration": 14.400834,
          "end_time": "2021-03-14T16:38:58.849558",
          "exception": false,
          "start_time": "2021-03-14T16:38:44.448724",
          "status": "completed"
        },
        "tags": [],
        "id": "aus5KL4wzdrj",
        "outputId": "9572870e-fce2-4204-8d6c-f6504c4ecf5c"
      },
      "source": [
        "plt.hist(df['Y'], bins=100)"
      ],
      "execution_count": null,
      "outputs": [
        {
          "output_type": "execute_result",
          "data": {
            "text/plain": [
              "(array([   5.,   10.,   17.,   27.,   74.,  116.,  182.,  256.,  386.,\n",
              "         419.,  604.,  713.,  814.,  936.,  947., 1007., 1063., 1082.,\n",
              "        1107., 1250., 1270., 1249., 1262., 1280., 1278., 1279., 1345.,\n",
              "        1301., 1274., 1355., 1378., 1294., 1209., 1245., 1248., 1290.,\n",
              "        1246., 1183., 1186., 1154., 1070., 1047.,  984.,  962.,  894.,\n",
              "         860.,  788.,  767.,  728.,  745.,  648.,  614.,  522.,  511.,\n",
              "         462.,  457.,  413.,  362.,  338.,  302.,  248.,  235.,  232.,\n",
              "         179.,  167.,  166.,  133.,  132.,  110.,  119.,  100.,   96.,\n",
              "          66.,   77.,   65.,   59.,   53.,   47.,   55.,   37.,   38.,\n",
              "          27.,   30.,   32.,   34.,   21.,   17.,   17.,   15.,   14.,\n",
              "          11.,   14.,   11.,   12.,   16.,   22.,   21.,   18.,   38.,\n",
              "          41.]),\n",
              " array([0.00272843, 0.01270083, 0.02267323, 0.03264563, 0.04261803,\n",
              "        0.05259043, 0.06256283, 0.07253523, 0.08250762, 0.09248002,\n",
              "        0.10245242, 0.11242482, 0.12239722, 0.13236962, 0.14234202,\n",
              "        0.15231441, 0.16228681, 0.17225921, 0.18223161, 0.19220401,\n",
              "        0.20217641, 0.21214881, 0.22212121, 0.2320936 , 0.242066  ,\n",
              "        0.2520384 , 0.2620108 , 0.2719832 , 0.2819556 , 0.291928  ,\n",
              "        0.3019004 , 0.31187279, 0.32184519, 0.33181759, 0.34178999,\n",
              "        0.35176239, 0.36173479, 0.37170719, 0.38167959, 0.39165198,\n",
              "        0.40162438, 0.41159678, 0.42156918, 0.43154158, 0.44151398,\n",
              "        0.45148638, 0.46145877, 0.47143117, 0.48140357, 0.49137597,\n",
              "        0.50134837, 0.51132077, 0.52129317, 0.53126557, 0.54123796,\n",
              "        0.55121036, 0.56118276, 0.57115516, 0.58112756, 0.59109996,\n",
              "        0.60107236, 0.61104476, 0.62101715, 0.63098955, 0.64096195,\n",
              "        0.65093435, 0.66090675, 0.67087915, 0.68085155, 0.69082394,\n",
              "        0.70079634, 0.71076874, 0.72074114, 0.73071354, 0.74068594,\n",
              "        0.75065834, 0.76063074, 0.77060313, 0.78057553, 0.79054793,\n",
              "        0.80052033, 0.81049273, 0.82046513, 0.83043753, 0.84040993,\n",
              "        0.85038232, 0.86035472, 0.87032712, 0.88029952, 0.89027192,\n",
              "        0.90024432, 0.91021672, 0.92018912, 0.93016151, 0.94013391,\n",
              "        0.95010631, 0.96007871, 0.97005111, 0.98002351, 0.98999591,\n",
              "        0.9999683 ]),\n",
              " <BarContainer object of 100 artists>)"
            ]
          },
          "metadata": {
            "tags": []
          },
          "execution_count": 28
        },
        {
          "output_type": "display_data",
          "data": {
            "image/png": "[encoded data removed]",
            "text/plain": [
              "<Figure size 432x288 with 1 Axes>"
            ]
          },
          "metadata": {
            "tags": [],
            "needs_background": "light"
          }
        }
      ]
    },
    {
      "cell_type": "code",
      "metadata": {
        "execution": {
          "iopub.execute_input": "2021-03-14T16:39:26.491083Z",
          "iopub.status.busy": "2021-03-14T16:39:26.490337Z",
          "iopub.status.idle": "2021-03-14T16:39:26.520016Z",
          "shell.execute_reply": "2021-03-14T16:39:26.520426Z"
        },
        "papermill": {
          "duration": 13.681009,
          "end_time": "2021-03-14T16:39:26.520603",
          "exception": false,
          "start_time": "2021-03-14T16:39:12.839594",
          "status": "completed"
        },
        "tags": [],
        "id": "zkDOYr22zdrk",
        "outputId": "1f571a33-2c65-4dfe-e133-a5d5839070d4"
      },
      "source": [
        "df[df['Y'] >= 0.5]"
      ],
      "execution_count": null,
      "outputs": [
        {
          "output_type": "execute_result",
          "data": {
            "text/html": [
              "<div>\n",
              "<style scoped>\n",
              "    .dataframe tbody tr th:only-of-type {\n",
              "        vertical-align: middle;\n",
              "    }\n",
              "\n",
              "    .dataframe tbody tr th {\n",
              "        vertical-align: top;\n",
              "    }\n",
              "\n",
              "    .dataframe thead th {\n",
              "        text-align: right;\n",
              "    }\n",
              "</style>\n",
              "<table border=\"1\" class=\"dataframe\">\n",
              "  <thead>\n",
              "    <tr style=\"text-align: right;\">\n",
              "      <th></th>\n",
              "      <th>tokens</th>\n",
              "      <th>Y</th>\n",
              "      <th>scores</th>\n",
              "      <th>preds</th>\n",
              "      <th>label</th>\n",
              "    </tr>\n",
              "  </thead>\n",
              "  <tbody>\n",
              "    <tr>\n",
              "      <th>0</th>\n",
              "      <td>[cock, ##su, ##cker, before, you, piss, around...</td>\n",
              "      <td>0.534244</td>\n",
              "      <td>[0.7692446999392344, 0.7547650090924806, 0.755...</td>\n",
              "      <td>[0.9980199199041843, 0.1607601419306211, 0.932...</td>\n",
              "      <td>1</td>\n",
              "    </tr>\n",
              "    <tr>\n",
              "      <th>4</th>\n",
              "      <td>[fuck, your, filthy, mother, in, the, ass, ,, ...</td>\n",
              "      <td>0.631085</td>\n",
              "      <td>[0.860464287606661, 0.8660522906890008, 0.8671...</td>\n",
              "      <td>[0.9999683047774107, 0.8822553014860401, 0.995...</td>\n",
              "      <td>1</td>\n",
              "    </tr>\n",
              "    <tr>\n",
              "      <th>6</th>\n",
              "      <td>[get, fucked, up, ., get, fuck, ##ee, ##ed, up...</td>\n",
              "      <td>0.512297</td>\n",
              "      <td>[0.735136501246793, 0.7424310535909308, 0.7427...</td>\n",
              "      <td>[0.9782661188057149, 0.9998679575342433, 0.737...</td>\n",
              "      <td>1</td>\n",
              "    </tr>\n",
              "    <tr>\n",
              "      <th>7</th>\n",
              "      <td>[stupid, peace, of, shit, stop, del, ##eti, ##...</td>\n",
              "      <td>0.503912</td>\n",
              "      <td>[0.7514214552825695, 0.759678979659358, 0.7606...</td>\n",
              "      <td>[0.999314555739647, 0.014240151639414082, 0.00...</td>\n",
              "      <td>1</td>\n",
              "    </tr>\n",
              "    <tr>\n",
              "      <th>20</th>\n",
              "      <td>[you, are, a, stupid, fuck, and, your, mother,...</td>\n",
              "      <td>0.561650</td>\n",
              "      <td>[0.7479016927678895, 0.7512370705555216, 0.755...</td>\n",
              "      <td>[0.9666784776679549, 0.0012887115024622074, 0....</td>\n",
              "      <td>1</td>\n",
              "    </tr>\n",
              "    <tr>\n",
              "      <th>...</th>\n",
              "      <td>...</td>\n",
              "      <td>...</td>\n",
              "      <td>...</td>\n",
              "      <td>...</td>\n",
              "      <td>...</td>\n",
              "    </tr>\n",
              "    <tr>\n",
              "      <th>52389</th>\n",
              "      <td>[man, i, fucking, love, ram]</td>\n",
              "      <td>0.736795</td>\n",
              "      <td>[0.81184411106198, 0.8202125375597974, 0.83551...</td>\n",
              "      <td>[0.9853082740763375, 0.008997308648915446, 0.9...</td>\n",
              "      <td>1</td>\n",
              "    </tr>\n",
              "    <tr>\n",
              "      <th>52407</th>\n",
              "      <td>[childish, as, fuck, son, .]</td>\n",
              "      <td>0.515756</td>\n",
              "      <td>[0.7380026071954245, 0.7405564804121872, 0.769...</td>\n",
              "      <td>[0.6779572965388223, 0.00012600330778772314, 0...</td>\n",
              "      <td>1</td>\n",
              "    </tr>\n",
              "    <tr>\n",
              "      <th>52497</th>\n",
              "      <td>[shut, the, fuck, om, ##g, no, one, cares, damn]</td>\n",
              "      <td>0.503686</td>\n",
              "      <td>[0.7386480272213372, 0.7465019762343019, 0.814...</td>\n",
              "      <td>[0.9554411832696198, 0.0003755713900746279, 0....</td>\n",
              "      <td>1</td>\n",
              "    </tr>\n",
              "    <tr>\n",
              "      <th>52548</th>\n",
              "      <td>[bro, my, neighbor, is, a, fucking, dumb, ##as...</td>\n",
              "      <td>0.503979</td>\n",
              "      <td>[0.8060458344358248, 0.8211390584786465, 0.823...</td>\n",
              "      <td>[0.9173511098398797, 0.7553135480535125, 0.009...</td>\n",
              "      <td>1</td>\n",
              "    </tr>\n",
              "    <tr>\n",
              "      <th>52598</th>\n",
              "      <td>[the, man, eats, like, a, fucking, animal]</td>\n",
              "      <td>0.533292</td>\n",
              "      <td>[0.7416125382402599, 0.780885505555915, 0.7865...</td>\n",
              "      <td>[0.0003755713900746279, 0.9853082740763375, 0....</td>\n",
              "      <td>1</td>\n",
              "    </tr>\n",
              "  </tbody>\n",
              "</table>\n",
              "<p>7548 rows × 5 columns</p>\n",
              "</div>"
            ],
            "text/plain": [
              "                                                  tokens         Y  \\\n",
              "0      [cock, ##su, ##cker, before, you, piss, around...  0.534244   \n",
              "4      [fuck, your, filthy, mother, in, the, ass, ,, ...  0.631085   \n",
              "6      [get, fucked, up, ., get, fuck, ##ee, ##ed, up...  0.512297   \n",
              "7      [stupid, peace, of, shit, stop, del, ##eti, ##...  0.503912   \n",
              "20     [you, are, a, stupid, fuck, and, your, mother,...  0.561650   \n",
              "...                                                  ...       ...   \n",
              "52389                       [man, i, fucking, love, ram]  0.736795   \n",
              "52407                       [childish, as, fuck, son, .]  0.515756   \n",
              "52497   [shut, the, fuck, om, ##g, no, one, cares, damn]  0.503686   \n",
              "52548  [bro, my, neighbor, is, a, fucking, dumb, ##as...  0.503979   \n",
              "52598         [the, man, eats, like, a, fucking, animal]  0.533292   \n",
              "\n",
              "                                                  scores  \\\n",
              "0      [0.7692446999392344, 0.7547650090924806, 0.755...   \n",
              "4      [0.860464287606661, 0.8660522906890008, 0.8671...   \n",
              "6      [0.735136501246793, 0.7424310535909308, 0.7427...   \n",
              "7      [0.7514214552825695, 0.759678979659358, 0.7606...   \n",
              "20     [0.7479016927678895, 0.7512370705555216, 0.755...   \n",
              "...                                                  ...   \n",
              "52389  [0.81184411106198, 0.8202125375597974, 0.83551...   \n",
              "52407  [0.7380026071954245, 0.7405564804121872, 0.769...   \n",
              "52497  [0.7386480272213372, 0.7465019762343019, 0.814...   \n",
              "52548  [0.8060458344358248, 0.8211390584786465, 0.823...   \n",
              "52598  [0.7416125382402599, 0.780885505555915, 0.7865...   \n",
              "\n",
              "                                                   preds  label  \n",
              "0      [0.9980199199041843, 0.1607601419306211, 0.932...      1  \n",
              "4      [0.9999683047774107, 0.8822553014860401, 0.995...      1  \n",
              "6      [0.9782661188057149, 0.9998679575342433, 0.737...      1  \n",
              "7      [0.999314555739647, 0.014240151639414082, 0.00...      1  \n",
              "20     [0.9666784776679549, 0.0012887115024622074, 0....      1  \n",
              "...                                                  ...    ...  \n",
              "52389  [0.9853082740763375, 0.008997308648915446, 0.9...      1  \n",
              "52407  [0.6779572965388223, 0.00012600330778772314, 0...      1  \n",
              "52497  [0.9554411832696198, 0.0003755713900746279, 0....      1  \n",
              "52548  [0.9173511098398797, 0.7553135480535125, 0.009...      1  \n",
              "52598  [0.0003755713900746279, 0.9853082740763375, 0....      1  \n",
              "\n",
              "[7548 rows x 5 columns]"
            ]
          },
          "metadata": {
            "tags": []
          },
          "execution_count": 29
        }
      ]
    }
  ]
}